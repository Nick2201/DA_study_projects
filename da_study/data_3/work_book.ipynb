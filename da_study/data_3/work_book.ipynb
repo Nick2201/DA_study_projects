{
 "cells": [
  {
   "cell_type": "code",
   "execution_count": 2,
   "metadata": {},
   "outputs": [],
   "source": [
    "import pandas as pd"
   ]
  },
  {
   "cell_type": "code",
   "execution_count": 3,
   "metadata": {},
   "outputs": [],
   "source": [
    "df_user = pd.read_csv(r\"user_data.csv\",encoding='utf-8')\n",
    "df_succses = pd.read_csv(r\"logs.csv\",encoding='utf-8')\n",
    "df_taxi_peru = pd.read_csv(r\"taxi_peru.csv\",sep=';',encoding='cp1251')"
   ]
  },
  {
   "cell_type": "code",
   "execution_count": 5,
   "metadata": {},
   "outputs": [],
   "source": [
    "# df = pd.read_csv(r\"companies.csv\",encoding='utf-8',sep=';')\n",
    "# df\n",
    "import pprint\n",
    "from tabulate import tabulate"
   ]
  },
  {
   "cell_type": "code",
   "execution_count": 7,
   "metadata": {},
   "outputs": [
    {
     "name": "stdout",
     "output_type": "stream",
     "text": [
      "╒═══╤═══════╤═══════╤════╕\n",
      "│ 0 │ 46346 │ False │ 58 │\n",
      "├───┼───────┼───────┼────┤\n",
      "│ 1 │  4391 │ False │ 55 │\n",
      "├───┼───────┼───────┼────┤\n",
      "│ 2 │ 27372 │ False │ 64 │\n",
      "├───┼───────┼───────┼────┤\n",
      "│ 3 │ 11989 │ False │ 44 │\n",
      "├───┼───────┼───────┼────┤\n",
      "│ 4 │ 60664 │ False │ 49 │\n",
      "╘═══╧═══════╧═══════╧════╛\n",
      "         client      age\n",
      "count   2954.00  2954.00\n",
      "mean   50767.89    44.20\n",
      "std    28800.51    14.25\n",
      "min       40.00    20.00\n",
      "25%    25639.50    32.00\n",
      "50%    51569.50    44.00\n",
      "75%    75963.25    56.00\n",
      "max    99973.00    69.00\n"
     ]
    },
    {
     "data": {
      "text/plain": [
       "(2954, 3)"
      ]
     },
     "execution_count": 7,
     "metadata": {},
     "output_type": "execute_result"
    }
   ],
   "source": [
    "df_user.describe(),df_user.shape\n",
    "df_succses.describe(),df_succses.shape\n",
    "df_succses.dtypes\n",
    "df_succses.columns\n",
    "\n",
    "def show_base(df):\n",
    "    about = {}\n",
    "    about['desc'] = df.describe().round(2)\n",
    "    about['types'] = df.dtypes\n",
    "    about['table'] = print(tabulate(df.head(), tablefmt='fancy_grid'))\n",
    "    about['size'] = df.shape\n",
    "    return about\n",
    "table =   show_base(df_user) \n",
    "print(table['desc'] )\n",
    "table['size']\n"
   ]
  },
  {
   "cell_type": "code",
   "execution_count": 17,
   "metadata": {},
   "outputs": [
    {
     "data": {
      "text/html": [
       "<div>\n",
       "<style scoped>\n",
       "    .dataframe tbody tr th:only-of-type {\n",
       "        vertical-align: middle;\n",
       "    }\n",
       "\n",
       "    .dataframe tbody tr th {\n",
       "        vertical-align: top;\n",
       "    }\n",
       "\n",
       "    .dataframe thead th {\n",
       "        text-align: right;\n",
       "    }\n",
       "</style>\n",
       "<table border=\"1\" class=\"dataframe\">\n",
       "  <thead>\n",
       "    <tr style=\"text-align: right;\">\n",
       "      <th></th>\n",
       "      <th>client</th>\n",
       "      <th>premium</th>\n",
       "      <th>age</th>\n",
       "    </tr>\n",
       "  </thead>\n",
       "  <tbody>\n",
       "    <tr>\n",
       "      <th>1322</th>\n",
       "      <td>92124</td>\n",
       "      <td>True</td>\n",
       "      <td>57</td>\n",
       "    </tr>\n",
       "    <tr>\n",
       "      <th>1312</th>\n",
       "      <td>96986</td>\n",
       "      <td>False</td>\n",
       "      <td>52</td>\n",
       "    </tr>\n",
       "    <tr>\n",
       "      <th>10</th>\n",
       "      <td>61559</td>\n",
       "      <td>False</td>\n",
       "      <td>59</td>\n",
       "    </tr>\n",
       "    <tr>\n",
       "      <th>178</th>\n",
       "      <td>8925</td>\n",
       "      <td>False</td>\n",
       "      <td>66</td>\n",
       "    </tr>\n",
       "    <tr>\n",
       "      <th>992</th>\n",
       "      <td>69682</td>\n",
       "      <td>False</td>\n",
       "      <td>53</td>\n",
       "    </tr>\n",
       "    <tr>\n",
       "      <th>644</th>\n",
       "      <td>99464</td>\n",
       "      <td>False</td>\n",
       "      <td>66</td>\n",
       "    </tr>\n",
       "    <tr>\n",
       "      <th>2033</th>\n",
       "      <td>43396</td>\n",
       "      <td>False</td>\n",
       "      <td>68</td>\n",
       "    </tr>\n",
       "    <tr>\n",
       "      <th>1189</th>\n",
       "      <td>19881</td>\n",
       "      <td>False</td>\n",
       "      <td>67</td>\n",
       "    </tr>\n",
       "    <tr>\n",
       "      <th>2692</th>\n",
       "      <td>64746</td>\n",
       "      <td>False</td>\n",
       "      <td>69</td>\n",
       "    </tr>\n",
       "    <tr>\n",
       "      <th>2034</th>\n",
       "      <td>23616</td>\n",
       "      <td>False</td>\n",
       "      <td>61</td>\n",
       "    </tr>\n",
       "  </tbody>\n",
       "</table>\n",
       "</div>"
      ],
      "text/plain": [
       "      client  premium  age\n",
       "1322   92124     True   57\n",
       "1312   96986    False   52\n",
       "10     61559    False   59\n",
       "178     8925    False   66\n",
       "992    69682    False   53\n",
       "644    99464    False   66\n",
       "2033   43396    False   68\n",
       "1189   19881    False   67\n",
       "2692   64746    False   69\n",
       "2034   23616    False   61"
      ]
     },
     "execution_count": 17,
     "metadata": {},
     "output_type": "execute_result"
    }
   ],
   "source": [
    "import numpy as np\n",
    "\n",
    "df_user.isnull().count()\n",
    "\n",
    "\n",
    "df_user[df_user.isnull().any(axis=1)]\n",
    "df_user.sample(n=10)\n",
    "# df_succses.drop_duplicates(inplace=True)\n",
    "# df_user.isna().any()\n",
    "# code, unique = pd.factorize(df.company,sort=True)\n",
    "# df_user.isna().any()"
   ]
  }
 ],
 "metadata": {
  "kernelspec": {
   "display_name": ".venv",
   "language": "python",
   "name": "python3"
  },
  "language_info": {
   "codemirror_mode": {
    "name": "ipython",
    "version": 3
   },
   "file_extension": ".py",
   "mimetype": "text/x-python",
   "name": "python",
   "nbconvert_exporter": "python",
   "pygments_lexer": "ipython3",
   "version": "3.10.5"
  },
  "orig_nbformat": 4
 },
 "nbformat": 4,
 "nbformat_minor": 2
}
