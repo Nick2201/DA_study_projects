{
 "cells": [
  {
   "cell_type": "code",
   "execution_count": 1,
   "metadata": {
    "collapsed": true,
    "pycharm": {
     "name": "#%%\n"
    }
   },
   "outputs": [],
   "source": [
    "import pandas as pd\n",
    "import sketch\n",
    "\n",
    "import start\n"
   ]
  },
  {
   "cell_type": "code",
   "execution_count": 16,
   "metadata": {
    "collapsed": false,
    "pycharm": {
     "name": "#%%\n"
    }
   },
   "outputs": [],
   "source": [
    "# df[[]].sketch.ask(\"Which columns are integer type?\")"
   ]
  },
  {
   "cell_type": "code",
   "execution_count": 2,
   "metadata": {
    "collapsed": false,
    "pycharm": {
     "name": "#%%\n"
    }
   },
   "outputs": [
    {
     "data": {
      "text/html": [
       "<div>\n",
       "<style scoped>\n",
       "    .dataframe tbody tr th:only-of-type {\n",
       "        vertical-align: middle;\n",
       "    }\n",
       "\n",
       "    .dataframe tbody tr th {\n",
       "        vertical-align: top;\n",
       "    }\n",
       "\n",
       "    .dataframe thead th {\n",
       "        text-align: right;\n",
       "    }\n",
       "</style>\n",
       "<table border=\"1\" class=\"dataframe\">\n",
       "  <thead>\n",
       "    <tr style=\"text-align: right;\">\n",
       "      <th></th>\n",
       "      <th>0</th>\n",
       "      <th>1</th>\n",
       "    </tr>\n",
       "  </thead>\n",
       "  <tbody>\n",
       "    <tr>\n",
       "      <th>0</th>\n",
       "      <td>Hotel</td>\n",
       "      <td>тип отеля (City Hotel или Resort Hotel)</td>\n",
       "    </tr>\n",
       "    <tr>\n",
       "      <th>1</th>\n",
       "      <td>Is canceled</td>\n",
       "      <td>бронирование было отменено (1) или нет (0); не отмененное считается успешным</td>\n",
       "    </tr>\n",
       "    <tr>\n",
       "      <th>2</th>\n",
       "      <td>Lead time</td>\n",
       "      <td>количество дней, прошедших между датой бронирования и датой прибытия</td>\n",
       "    </tr>\n",
       "    <tr>\n",
       "      <th>3</th>\n",
       "      <td>Arrival full date</td>\n",
       "      <td>полная дата прибытия</td>\n",
       "    </tr>\n",
       "    <tr>\n",
       "      <th>4</th>\n",
       "      <td>Arrival date year</td>\n",
       "      <td>год прибытия</td>\n",
       "    </tr>\n",
       "    <tr>\n",
       "      <th>5</th>\n",
       "      <td>Arrival date month</td>\n",
       "      <td>месяц прибытия</td>\n",
       "    </tr>\n",
       "    <tr>\n",
       "      <th>6</th>\n",
       "      <td>Arrival date week number</td>\n",
       "      <td>номер недели прибытия</td>\n",
       "    </tr>\n",
       "    <tr>\n",
       "      <th>7</th>\n",
       "      <td>Arrival date day of month</td>\n",
       "      <td>день прибытия</td>\n",
       "    </tr>\n",
       "    <tr>\n",
       "      <th>8</th>\n",
       "      <td>Stays in weekend nights</td>\n",
       "      <td>количество выходных (суббота или воскресенье), которые гость забронировал для проживания в отеле</td>\n",
       "    </tr>\n",
       "    <tr>\n",
       "      <th>9</th>\n",
       "      <td>Stays in week nights</td>\n",
       "      <td>количество дней (с понедельника по пятницу), которые гость забронировал для проживания в отеле</td>\n",
       "    </tr>\n",
       "    <tr>\n",
       "      <th>10</th>\n",
       "      <td>Stays total nights</td>\n",
       "      <td>общее число забронированных ночей (сумма двух предыдущих колонок)</td>\n",
       "    </tr>\n",
       "    <tr>\n",
       "      <th>11</th>\n",
       "      <td></td>\n",
       "      <td>None</td>\n",
       "    </tr>\n",
       "    <tr>\n",
       "      <th>12</th>\n",
       "      <td>Adults</td>\n",
       "      <td>число взрослых</td>\n",
       "    </tr>\n",
       "    <tr>\n",
       "      <th>13</th>\n",
       "      <td>Children</td>\n",
       "      <td>число детей</td>\n",
       "    </tr>\n",
       "    <tr>\n",
       "      <th>14</th>\n",
       "      <td>Babies</td>\n",
       "      <td>число младенцев</td>\n",
       "    </tr>\n",
       "    <tr>\n",
       "      <th>15</th>\n",
       "      <td>Meal</td>\n",
       "      <td>выбранный тип питания</td>\n",
       "    </tr>\n",
       "    <tr>\n",
       "      <th>16</th>\n",
       "      <td>Country</td>\n",
       "      <td>страна происхождения клиента</td>\n",
       "    </tr>\n",
       "    <tr>\n",
       "      <th>17</th>\n",
       "      <td></td>\n",
       "      <td>None</td>\n",
       "    </tr>\n",
       "    <tr>\n",
       "      <th>18</th>\n",
       "      <td>Reserved room type</td>\n",
       "      <td>тип зарезервированного номера</td>\n",
       "    </tr>\n",
       "    <tr>\n",
       "      <th>19</th>\n",
       "      <td>Assigned room type</td>\n",
       "      <td>тип полученного номера (может отличаться от забронированного)</td>\n",
       "    </tr>\n",
       "    <tr>\n",
       "      <th>20</th>\n",
       "      <td>Customer type</td>\n",
       "      <td>тип бронирования</td>\n",
       "    </tr>\n",
       "    <tr>\n",
       "      <th>21</th>\n",
       "      <td>Reservation status</td>\n",
       "      <td>значение последнего статуса брони: Canceled - было отменено клиентом; Check-Out - клиент зарегистрировался, но уже покинул отель; No-Show - клиент не зарегистрировался и сообщил администрации отеля причину</td>\n",
       "    </tr>\n",
       "    <tr>\n",
       "      <th>22</th>\n",
       "      <td>Reservation status date</td>\n",
       "      <td>дата обновления статуса</td>\n",
       "    </tr>\n",
       "  </tbody>\n",
       "</table>\n",
       "</div>"
      ],
      "text/plain": [
       "                            0   \n",
       "0                       Hotel  \\\n",
       "1                 Is canceled   \n",
       "2                   Lead time   \n",
       "3           Arrival full date   \n",
       "4           Arrival date year   \n",
       "5          Arrival date month   \n",
       "6    Arrival date week number   \n",
       "7   Arrival date day of month   \n",
       "8     Stays in weekend nights   \n",
       "9        Stays in week nights   \n",
       "10         Stays total nights   \n",
       "11                              \n",
       "12                     Adults   \n",
       "13                   Children   \n",
       "14                     Babies   \n",
       "15                       Meal   \n",
       "16                    Country   \n",
       "17                              \n",
       "18         Reserved room type   \n",
       "19         Assigned room type   \n",
       "20              Customer type   \n",
       "21         Reservation status   \n",
       "22    Reservation status date   \n",
       "\n",
       "                                                                                                                                                                                                                1  \n",
       "0                                                                                                                                                                         тип отеля (City Hotel или Resort Hotel)  \n",
       "1                                                                                                                                    бронирование было отменено (1) или нет (0); не отмененное считается успешным  \n",
       "2                                                                                                                                            количество дней, прошедших между датой бронирования и датой прибытия  \n",
       "3                                                                                                                                                                                            полная дата прибытия  \n",
       "4                                                                                                                                                                                                    год прибытия  \n",
       "5                                                                                                                                                                                                  месяц прибытия  \n",
       "6                                                                                                                                                                                           номер недели прибытия  \n",
       "7                                                                                                                                                                                                   день прибытия  \n",
       "8                                                                                                                количество выходных (суббота или воскресенье), которые гость забронировал для проживания в отеле  \n",
       "9                                                                                                                  количество дней (с понедельника по пятницу), которые гость забронировал для проживания в отеле  \n",
       "10                                                                                                                                              общее число забронированных ночей (сумма двух предыдущих колонок)  \n",
       "11                                                                                                                                                                                                           None  \n",
       "12                                                                                                                                                                                                 число взрослых  \n",
       "13                                                                                                                                                                                                    число детей  \n",
       "14                                                                                                                                                                                                число младенцев  \n",
       "15                                                                                                                                                                                          выбранный тип питания  \n",
       "16                                                                                                                                                                                   страна происхождения клиента  \n",
       "17                                                                                                                                                                                                           None  \n",
       "18                                                                                                                                                                                  тип зарезервированного номера  \n",
       "19                                                                                                                                                  тип полученного номера (может отличаться от забронированного)  \n",
       "20                                                                                                                                                                                               тип бронирования  \n",
       "21  значение последнего статуса брони: Canceled - было отменено клиентом; Check-Out - клиент зарегистрировался, но уже покинул отель; No-Show - клиент не зарегистрировался и сообщил администрации отеля причину  \n",
       "22                                                                                                                                                                                        дата обновления статуса  "
      ]
     },
     "execution_count": 2,
     "metadata": {},
     "output_type": "execute_result"
    }
   ],
   "source": [
    "\n",
    "pd.set_option('display.max_colwidth', None)\n",
    "\n",
    "start.data_desc"
   ]
  },
  {
   "cell_type": "code",
   "execution_count": null,
   "metadata": {
    "collapsed": false,
    "pycharm": {
     "name": "#%%\n"
    }
   },
   "outputs": [],
   "source": [
    "# start.df.iloc[:,:7]\n"
   ]
  },
  {
   "cell_type": "code",
   "execution_count": 3,
   "metadata": {
    "collapsed": false,
    "pycharm": {
     "name": "#%%\n"
    }
   },
   "outputs": [
    {
     "data": {
      "text/plain": [
       "21"
      ]
     },
     "execution_count": 3,
     "metadata": {},
     "output_type": "execute_result"
    }
   ],
   "source": [
    "df = start.df\n",
    "df = df.rename(columns={i:i.lower().replace(\" \",\"_\") for i in df.columns})\n",
    "tasks = {}\n",
    "df.columns.shape[0]"
   ]
  },
  {
   "cell_type": "code",
   "execution_count": 4,
   "metadata": {
    "collapsed": false,
    "pycharm": {
     "name": "#%%\n"
    }
   },
   "outputs": [],
   "source": [
    "tasks['county_success'] = df.query(\n",
    "    \"is_canceled == 0\").country.value_counts()[:5]"
   ]
  },
  {
   "cell_type": "code",
   "execution_count": 5,
   "metadata": {
    "collapsed": false,
    "pycharm": {
     "name": "#%%\n"
    }
   },
   "outputs": [],
   "source": [
    "tasks['mean_reservered'] = df.groupby('hotel') \\\n",
    "    .agg({\"stays_total_nights\" : 'mean'}) \\\n",
    "    .round(0)"
   ]
  },
  {
   "cell_type": "code",
   "execution_count": 6,
   "metadata": {
    "collapsed": false,
    "pycharm": {
     "name": "#%%\n"
    }
   },
   "outputs": [],
   "source": [
    "tasks['assigned & reserved count'] =df[df.assigned_room_type != df.reserved_room_type].shape[0]"
   ]
  },
  {
   "cell_type": "code",
   "execution_count": 8,
   "metadata": {
    "collapsed": false,
    "pycharm": {
     "name": "#%%\n"
    }
   },
   "outputs": [],
   "source": [
    "tasks[\"most_popular_month_by_year\"] = df \\\n",
    "    .query('arrival_date_year == 2016') \\\n",
    "    .arrival_date_month \\\n",
    "    .value_counts()\n"
   ]
  },
  {
   "attachments": {},
   "cell_type": "markdown",
   "metadata": {
    "collapsed": false,
    "pycharm": {
     "name": "#%% md\n"
    }
   },
   "source": []
  },
  {
   "cell_type": "code",
   "execution_count": 12,
   "metadata": {
    "collapsed": false,
    "pycharm": {
     "name": "#%%\n"
    }
   },
   "outputs": [],
   "source": [
    "tasks[\"most_popular_month_by_one_year\"] = df \\\n",
    "    .query('arrival_date_year == 2016') \\\n",
    "    .arrival_date_month \\\n",
    "    .value_counts()\n",
    "\n",
    "tasks[\"most_popular_in_every_year\"] = (\n",
    "    df.groupby(['arrival_date_year',\"arrival_date_month\"])\n",
    "    .count()\n",
    "    .sort_values(by='hotel')\n",
    "    .groupby(level=0)\n",
    "    .tail(1)[['is_canceled']]\n",
    ")\n",
    "# diamonds.groupby(\"cut\").nth(5)\n",
    "# tasks[\"most_popular_in_every_year\"] \n",
    "# (\n",
    "#     df.query(\"is_canceled == 1\").\n",
    "#     groupby(['arrival_date_year',\"arrival_date_month\"])['hotel']\n",
    "#     .count()\n",
    "# )\n",
    "    # .sort_values(by='hotel')"
   ]
  },
  {
   "cell_type": "code",
   "execution_count": null,
   "metadata": {
    "collapsed": false,
    "pycharm": {
     "name": "#%%\n"
    }
   },
   "outputs": [],
   "source": [
    "df.groupby(['arrival_date_year'],as_index=False) \\\n",
    "    .agg({\"arrival_date_month\":\"count\"}).value_counts()\n",
    "\n",
    "# df.value_count(by=\"arrival_date_month\")\n",
    "\n",
    "df[['arrival_date_year',\"arrival_date_month\"]]\\\n",
    "    .groupby(['arrival_date_year',\"arrival_date_month\"],as_index=False) \\\n",
    "    .agg(m=(\"arrival_date_month\",\"count\")) \\\n",
    "    .sort_values('m',ascending=False)\n",
    "\n",
    "grouped_df = df.groupby(['arrival_date_year', 'arrival_date_month']).size().reset_index(name='count')\n",
    "\n",
    "# Find the row with the maximum count for each year\n",
    "max_count_rows = grouped_df.groupby('arrival_date_year').apply(lambda x: x[x['count'] == x['count'].max()]).index\n",
    "\n",
    "# Reset the index of the resulting DataFrame\n",
    "# max_count_rows = max_count_rows.reset_index(drop=True)\n",
    "max_count_rows\n",
    "grouped_df = df.groupby(['arrival_date_year', 'arrival_date_month']).size().reset_index(name='count')\n",
    "\n",
    "# Find the row with the maximum count for each year\n",
    "max_count_rows = grouped_df.groupby('arrival_date_year')['count'].idxmax()\n",
    "max_count_rows = grouped_df.loc[max_count_rows]\n",
    "max_count_rows"
   ]
  },
  {
   "cell_type": "code",
   "execution_count": null,
   "metadata": {
    "collapsed": false,
    "pycharm": {
     "name": "#%%\n"
    }
   },
   "outputs": [],
   "source": [
    "import sketch\n",
    "df.iloc[:,:7].sketch.ask(\"в каждом году (arrival_date_year), найти месяц с наибольним (arrival_date_month.value_count()), т.е.arrival_date_year месяц колисетво\" )"
   ]
  },
  {
   "cell_type": "code",
   "execution_count": null,
   "metadata": {
    "collapsed": false,
    "pycharm": {
     "name": "#%%\n"
    }
   },
   "outputs": [],
   "source": [
    "tasks['is_canceled in City Hotel'] = df.query \\\n",
    "    (\"hotel=='City Hotel' and is_canceled == 1\") \\\n",
    "    .groupby([\"arrival_date_year\",\"arrival_date_month\"],) \\\n",
    "    .count() \\\n",
    "    .sort_values(by=['hotel'],ascending=False) \\\n",
    "        .groupby(level=0).head(1)['hotel']\n"
   ]
  },
  {
   "cell_type": "code",
   "execution_count": null,
   "metadata": {
    "collapsed": false,
    "pycharm": {
     "name": "#%%\n"
    }
   },
   "outputs": [],
   "source": [
    "df[[\"adults\", \"children\",\"babies\"]].describe().loc[['mean','std']]\n",
    "\n",
    "tasks['highest average']  = df[[\"adults\", \"children\",\"babies\"]].mean().round(2)"
   ]
  },
  {
   "cell_type": "code",
   "execution_count": null,
   "metadata": {
    "collapsed": false,
    "pycharm": {
     "name": "#%%\n"
    }
   },
   "outputs": [],
   "source": [
    "df['babies'] = df[\"children\"] + df[\"babies\"]\n",
    "babies_uncirtanly = df.groupby('hotel').agg(\n",
    "    count=('babies','count'),\n",
    "    mean=('babies','mean')).round(2)\n",
    "\n",
    "babies_cirtanly = df.query(\"babies >= 0 and is_canceled==0\") \\\n",
    "    .groupby('hotel').agg(\n",
    "    count=('babies','count'),\n",
    "    mean=('babies','mean')).round(2)\n",
    "tasks['with babies preffers'] = babies_uncirtanly,babies_cirtanly"
   ]
  },
  {
   "cell_type": "code",
   "execution_count": null,
   "metadata": {
    "collapsed": false,
    "pycharm": {
     "name": "#%%\n"
    }
   },
   "outputs": [],
   "source": [
    "# df['has_kids'] = \n",
    "df['has_kids'] = df['babies'] == True\n",
    "df.query('has_kids == True').shape[0]"
   ]
  },
  {
   "attachments": {},
   "cell_type": "markdown",
   "metadata": {
    "collapsed": false,
    "pycharm": {
     "name": "#%% md\n"
    }
   },
   "source": [
    "# All"
   ]
  },
  {
   "cell_type": "code",
   "execution_count": null,
   "metadata": {
    "collapsed": false,
    "pycharm": {
     "name": "#%%\n"
    }
   },
   "outputs": [],
   "source": [
    "df_all = start.df.rename(columns={_col:_col.lower().replace(' ','_') for _col in start.df.columns})\n",
    "df_all.columns,df_all.columns.shape[0]\n",
    "df_all.dtypes.value_counts()\n",
    "df_all[df_all.dtypes == 'object']"
   ]
  },
  {
   "cell_type": "code",
   "execution_count": 37,
   "metadata": {
    "pycharm": {
     "name": "#%%\n"
    }
   },
   "outputs": [],
   "source": [
    "tasks['assigned & reserved count'] =df[df.assigned_room_type != df.reserved_room_type].shape[0]"
   ]
  },
  {
   "cell_type": "code",
   "execution_count": 174,
   "metadata": {
    "pycharm": {
     "name": "#%%\n"
    }
   },
   "outputs": [],
   "source": [
    "tasks[\"most_popular_month_by_year\"] = df \\\n",
    "    .query('arrival_date_year == 2016') \\\n",
    "    .arrival_date_month \\\n",
    "    .value_counts()\n"
   ]
  },
  {
   "attachments": {},
   "cell_type": "markdown",
   "metadata": {
    "pycharm": {
     "name": "#%% md\n"
    }
   },
   "source": []
  },
  {
   "cell_type": "code",
   "execution_count": 27,
   "metadata": {
    "pycharm": {
     "name": "#%%\n"
    }
   },
   "outputs": [],
   "source": [
    "tasks[\"most_popular_month_by_one_year\"] = df \\\n",
    "    .query('arrival_date_year == 2016') \\\n",
    "    .arrival_date_month \\\n",
    "    .value_counts()\n",
    "\n",
    "tasks[\"most_popular_in_every_year\"] = (\n",
    "    df.groupby(['arrival_date_year',\"arrival_date_month\"])\n",
    "    .count()\n",
    "    .sort_values(by='hotel')\n",
    "    .groupby(level=0)\n",
    "    .tail(1)[['is_canceled']]\n",
    ")\n",
    "# diamonds.groupby(\"cut\").nth(5)\n"
   ]
  },
  {
   "cell_type": "code",
   "execution_count": 25,
   "metadata": {
    "pycharm": {
     "name": "#%%\n"
    }
   },
   "outputs": [
    {
     "data": {
      "text/html": [
       "<div>\n",
       "<style scoped>\n",
       "    .dataframe tbody tr th:only-of-type {\n",
       "        vertical-align: middle;\n",
       "    }\n",
       "\n",
       "    .dataframe tbody tr th {\n",
       "        vertical-align: top;\n",
       "    }\n",
       "\n",
       "    .dataframe thead th {\n",
       "        text-align: right;\n",
       "    }\n",
       "</style>\n",
       "<table border=\"1\" class=\"dataframe\">\n",
       "  <thead>\n",
       "    <tr style=\"text-align: right;\">\n",
       "      <th></th>\n",
       "      <th>arrival_date_year</th>\n",
       "      <th>arrival_date_month</th>\n",
       "      <th>count</th>\n",
       "    </tr>\n",
       "  </thead>\n",
       "  <tbody>\n",
       "    <tr>\n",
       "      <th>5</th>\n",
       "      <td>2015</td>\n",
       "      <td>September</td>\n",
       "      <td>5114</td>\n",
       "    </tr>\n",
       "    <tr>\n",
       "      <th>16</th>\n",
       "      <td>2016</td>\n",
       "      <td>October</td>\n",
       "      <td>6203</td>\n",
       "    </tr>\n",
       "    <tr>\n",
       "      <th>25</th>\n",
       "      <td>2017</td>\n",
       "      <td>May</td>\n",
       "      <td>6313</td>\n",
       "    </tr>\n",
       "  </tbody>\n",
       "</table>\n",
       "</div>"
      ],
      "text/plain": [
       "    arrival_date_year arrival_date_month  count\n",
       "5                2015          September   5114\n",
       "16               2016            October   6203\n",
       "25               2017                May   6313"
      ]
     },
     "execution_count": 25,
     "metadata": {},
     "output_type": "execute_result"
    }
   ],
   "source": [
    "df_group_size_year_month = df.groupby(\n",
    "\t['arrival_date_year', 'arrival_date_month']) \\\n",
    "\t.size() \\\n",
    "\t.reset_index(name='count') #agg\n",
    "\n",
    "max_count_rows = df_group_size_year_month \\\n",
    "    .loc[\n",
    "        df_group_size_year_month.groupby('arrival_date_year')['count']\n",
    "        .idxmax()]\n",
    "max_count_rows"
   ]
  },
  {
   "cell_type": "code",
   "execution_count": 107,
   "metadata": {
    "pycharm": {
     "name": "#%%\n"
    }
   },
   "outputs": [
    {
     "data": {
      "text/html": [
       "\n",
       "2015: July (20370)\n",
       "2016: August (20778)\n",
       "2017: August (19242)\n"
      ],
      "text/plain": [
       "<IPython.core.display.HTML object>"
      ]
     },
     "metadata": {},
     "output_type": "display_data"
    }
   ],
   "source": [
    "import sketch\n",
    "df.iloc[:,:7].sketch.ask(\"в каждом году (arrival_date_year), найти месяц с наибольним (arrival_date_month.value_count()), т.е.arrival_date_year месяц колисетво\" )"
   ]
  },
  {
   "cell_type": "code",
   "execution_count": 17,
   "metadata": {
    "pycharm": {
     "name": "#%%\n"
    }
   },
   "outputs": [
    {
     "data": {
      "text/plain": [
       "False"
      ]
     },
     "execution_count": 17,
     "metadata": {},
     "output_type": "execute_result"
    }
   ],
   "source": [
    "# df[[\"adults\", \"children\",\"babies\"]].describe().loc[['mean','std']]\n",
    "\n",
    "# tasks['highest average']  = df[[\"adults\", \"children\",\"babies\"]].mean().round(2)\n",
    "state = {\n",
    "    'junior' : 0,\n",
    "    'middle' :2,\n",
    "    'senior' :5 }\n",
    "worker = ['Olya', 'Silyutina', 350000, 3]\n",
    "# status = n_ind if worker[3]>state[_ind]ext(_ind for _ind in state if worker[3]<state[_ind])\n",
    "\n",
    "status = next('junior' if _ind is None \n",
    "              else worker[3]<state[_ind]  for _ind in state)\n",
    "status"
   ]
  },
  {
   "cell_type": "code",
   "execution_count": 221,
   "metadata": {
    "pycharm": {
     "name": "#%%\n"
    }
   },
   "outputs": [],
   "source": [
    "df['babies'] = df[\"children\"] + df[\"babies\"]\n",
    "babies_uncirtanly = df.groupby('hotel').agg(\n",
    "    count=('babies','count'),\n",
    "    mean=('babies','mean')).round(2)\n",
    "\n",
    "babies_cirtanly = df.query(\"babies >= 0 and is_canceled==0\") \\\n",
    "    .groupby('hotel').agg(\n",
    "    count=('babies','count'),\n",
    "    mean=('babies','mean')).round(2)\n",
    "tasks['with babies preffers'] = babies_uncirtanly,babies_cirtanly"
   ]
  },
  {
   "cell_type": "code",
   "execution_count": 230,
   "metadata": {
    "pycharm": {
     "name": "#%%\n"
    }
   },
   "outputs": [
    {
     "data": {
      "text/plain": [
       "728"
      ]
     },
     "execution_count": 230,
     "metadata": {},
     "output_type": "execute_result"
    }
   ],
   "source": [
    "# df['has_kids'] = \n",
    "df['has_kids'] = df['babies'] == True\n",
    "df.query('has_kids == True').shape[0]"
   ]
  }
 ],
 "metadata": {
  "kernelspec": {
   "display_name": "Python 3",
   "language": "python",
   "name": "python3"
  },
  "language_info": {
   "codemirror_mode": {
    "name": "ipython",
    "version": 3
   },
   "file_extension": ".py",
   "mimetype": "text/x-python",
   "name": "python",
   "nbconvert_exporter": "python",
   "pygments_lexer": "ipython3",
   "version": "3.10.5"
  }
 },
 "nbformat": 4,
 "nbformat_minor": 0
}
