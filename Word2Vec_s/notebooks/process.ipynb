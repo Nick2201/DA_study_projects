{
 "cells": [
  {
   "attachments": {},
   "cell_type": "markdown",
   "metadata": {},
   "source": [
    "# Twitter Sentiment Analysis\n",
    "[link](https://www.kaggle.com/code/paoloripamonti/twitter-sentiment-analysis/notebook)"
   ]
  },
  {
   "cell_type": "code",
   "execution_count": 1,
   "metadata": {},
   "outputs": [
    {
     "name": "stderr",
     "output_type": "stream",
     "text": [
      "2023-07-18 23:02:39.958871: I tensorflow/tsl/cuda/cudart_stub.cc:28] Could not find cuda drivers on your machine, GPU will not be used.\n",
      "2023-07-18 23:02:40.042620: I tensorflow/tsl/cuda/cudart_stub.cc:28] Could not find cuda drivers on your machine, GPU will not be used.\n",
      "2023-07-18 23:02:40.043625: I tensorflow/core/platform/cpu_feature_guard.cc:182] This TensorFlow binary is optimized to use available CPU instructions in performance-critical operations.\n",
      "To enable the following instructions: AVX2 FMA, in other operations, rebuild TensorFlow with the appropriate compiler flags.\n",
      "2023-07-18 23:02:41.411917: W tensorflow/compiler/tf2tensorrt/utils/py_utils.cc:38] TF-TRT Warning: Could not find TensorRT\n"
     ]
    }
   ],
   "source": [
    "# DataFrame\n",
    "import pandas as pd\n",
    "\n",
    "# Matplot\n",
    "import matplotlib.pyplot as plt\n",
    "%matplotlib inline\n",
    "\n",
    "# Scikit-learn\n",
    "from sklearn.model_selection import train_test_split\n",
    "from sklearn.preprocessing import LabelEncoder\n",
    "from sklearn.metrics import confusion_matrix, classification_report, accuracy_score\n",
    "from sklearn.manifold import TSNE\n",
    "from sklearn.feature_extraction.text import TfidfVectorizer\n",
    "\n",
    "# # Keras\n",
    "from keras.preprocessing.text import Tokenizer\n",
    "from keras.preprocessing.sequence import pad_sequences\n",
    "\n",
    "from keras.models import Sequential\n",
    "from keras.layers import Activation, Dense, Dropout, Embedding, Flatten, Conv1D, MaxPooling1D, LSTM\n",
    "from keras import utils\n",
    "from keras.callbacks import ReduceLROnPlateau, EarlyStopping\n",
    "\n",
    "# nltk\n",
    "import nltk\n",
    "from nltk.corpus import stopwords\n",
    "from  nltk.stem import SnowballStemmer\n",
    "\n",
    "# Word2vec\n",
    "import gensim\n",
    "\n",
    "# Utility\n",
    "import re\n",
    "import numpy as np\n",
    "import os\n",
    "from collections import Counter\n",
    "import logging\n",
    "import time\n",
    "import pickle\n",
    "import itertools\n",
    "\n",
    "# Set log\n",
    "logging.basicConfig(format='%(asctime)s : %(levelname)s : %(message)s', level=logging.INFO)"
   ]
  },
  {
   "cell_type": "code",
   "execution_count": 2,
   "metadata": {},
   "outputs": [
    {
     "name": "stderr",
     "output_type": "stream",
     "text": [
      "[nltk_data] Downloading package stopwords to /home/nick/nltk_data...\n",
      "[nltk_data]   Package stopwords is already up-to-date!\n"
     ]
    },
    {
     "data": {
      "text/plain": [
       "True"
      ]
     },
     "execution_count": 2,
     "metadata": {},
     "output_type": "execute_result"
    }
   ],
   "source": [
    "nltk.download('stopwords')"
   ]
  },
  {
   "cell_type": "code",
   "execution_count": 3,
   "metadata": {},
   "outputs": [],
   "source": [
    "from pathlib import Path\n",
    "import seaborn as sns\n",
    "# DATASET\n",
    "DATASET_COLUMNS = [\"target\", \"ids\", \"date\", \"flag\", \"user\", \"text\"]\n",
    "DATASET_ENCODING = \"ISO-8859-1\"\n",
    "df = pd.read_csv(r'../data/training.1600000.processed.noemoticon.csv.zip',encoding=DATASET_ENCODING,names=DATASET_COLUMNS)"
   ]
  },
  {
   "cell_type": "code",
   "execution_count": 4,
   "metadata": {},
   "outputs": [
    {
     "data": {
      "text/html": [
       "<div>\n",
       "<style scoped>\n",
       "    .dataframe tbody tr th:only-of-type {\n",
       "        vertical-align: middle;\n",
       "    }\n",
       "\n",
       "    .dataframe tbody tr th {\n",
       "        vertical-align: top;\n",
       "    }\n",
       "\n",
       "    .dataframe thead th {\n",
       "        text-align: right;\n",
       "    }\n",
       "</style>\n",
       "<table border=\"1\" class=\"dataframe\">\n",
       "  <thead>\n",
       "    <tr style=\"text-align: right;\">\n",
       "      <th></th>\n",
       "      <th>target</th>\n",
       "      <th>ids</th>\n",
       "      <th>date</th>\n",
       "      <th>flag</th>\n",
       "      <th>user</th>\n",
       "      <th>text</th>\n",
       "    </tr>\n",
       "  </thead>\n",
       "  <tbody>\n",
       "    <tr>\n",
       "      <th>893489</th>\n",
       "      <td>4</td>\n",
       "      <td>1691900289</td>\n",
       "      <td>Sun May 03 18:51:05 PDT 2009</td>\n",
       "      <td>NO_QUERY</td>\n",
       "      <td>dailyPRIME</td>\n",
       "      <td>@JONASMileyDemi Woo I'm glad someone finally v...</td>\n",
       "    </tr>\n",
       "    <tr>\n",
       "      <th>273327</th>\n",
       "      <td>0</td>\n",
       "      <td>1990375965</td>\n",
       "      <td>Mon Jun 01 04:41:58 PDT 2009</td>\n",
       "      <td>NO_QUERY</td>\n",
       "      <td>Luke_Scott</td>\n",
       "      <td>Back home for atleast the next two weeks. And ...</td>\n",
       "    </tr>\n",
       "    <tr>\n",
       "      <th>766201</th>\n",
       "      <td>0</td>\n",
       "      <td>2299789597</td>\n",
       "      <td>Tue Jun 23 13:20:54 PDT 2009</td>\n",
       "      <td>NO_QUERY</td>\n",
       "      <td>stickart</td>\n",
       "      <td>http://tinyurl.com/m5care - &amp;quot;Ed McMahon D...</td>\n",
       "    </tr>\n",
       "    <tr>\n",
       "      <th>511924</th>\n",
       "      <td>0</td>\n",
       "      <td>2190016821</td>\n",
       "      <td>Tue Jun 16 01:31:51 PDT 2009</td>\n",
       "      <td>NO_QUERY</td>\n",
       "      <td>JadeLee_</td>\n",
       "      <td>@Georgesampson nice one i've got mine next yea...</td>\n",
       "    </tr>\n",
       "    <tr>\n",
       "      <th>567229</th>\n",
       "      <td>0</td>\n",
       "      <td>2207116773</td>\n",
       "      <td>Wed Jun 17 07:30:26 PDT 2009</td>\n",
       "      <td>NO_QUERY</td>\n",
       "      <td>simpleskye</td>\n",
       "      <td>is sad that iPhone 3.0 is not available yet. I...</td>\n",
       "    </tr>\n",
       "  </tbody>\n",
       "</table>\n",
       "</div>"
      ],
      "text/plain": [
       "        target         ids                          date      flag  \\\n",
       "893489       4  1691900289  Sun May 03 18:51:05 PDT 2009  NO_QUERY   \n",
       "273327       0  1990375965  Mon Jun 01 04:41:58 PDT 2009  NO_QUERY   \n",
       "766201       0  2299789597  Tue Jun 23 13:20:54 PDT 2009  NO_QUERY   \n",
       "511924       0  2190016821  Tue Jun 16 01:31:51 PDT 2009  NO_QUERY   \n",
       "567229       0  2207116773  Wed Jun 17 07:30:26 PDT 2009  NO_QUERY   \n",
       "\n",
       "              user                                               text  \n",
       "893489  dailyPRIME  @JONASMileyDemi Woo I'm glad someone finally v...  \n",
       "273327  Luke_Scott  Back home for atleast the next two weeks. And ...  \n",
       "766201    stickart  http://tinyurl.com/m5care - &quot;Ed McMahon D...  \n",
       "511924    JadeLee_  @Georgesampson nice one i've got mine next yea...  \n",
       "567229  simpleskye  is sad that iPhone 3.0 is not available yet. I...  "
      ]
     },
     "execution_count": 4,
     "metadata": {},
     "output_type": "execute_result"
    }
   ],
   "source": [
    "df.sample(5)"
   ]
  },
  {
   "cell_type": "code",
   "execution_count": 5,
   "metadata": {},
   "outputs": [],
   "source": [
    "decode_map = {0: \"NEGATIVE\", 2: \"NEUTRAL\", 4: \"POSITIVE\"}\n",
    "def decode_sentiment(label):\n",
    "    return decode_map[int(label)]\n",
    "df['target'] = df['target'].map(decode_sentiment)   "
   ]
  },
  {
   "cell_type": "code",
   "execution_count": 6,
   "metadata": {},
   "outputs": [
    {
     "data": {
      "text/plain": [
       "826454    POSITIVE\n",
       "488153    NEGATIVE\n",
       "799004    NEGATIVE\n",
       "13192     NEGATIVE\n",
       "100948    NEGATIVE\n",
       "Name: target, dtype: object"
      ]
     },
     "execution_count": 6,
     "metadata": {},
     "output_type": "execute_result"
    }
   ],
   "source": [
    "df.target.sample(5)"
   ]
  },
  {
   "cell_type": "code",
   "execution_count": 7,
   "metadata": {},
   "outputs": [
    {
     "data": {
      "text/plain": [
       "<Axes: xlabel='target', ylabel='count'>"
      ]
     },
     "execution_count": 7,
     "metadata": {},
     "output_type": "execute_result"
    },
    {
     "data": {
      "image/png": "[encoded data removed]",
      "text/plain": [
       "<Figure size 640x480 with 1 Axes>"
      ]
     },
     "metadata": {},
     "output_type": "display_data"
    }
   ],
   "source": [
    "import seaborn as sns\n",
    "sns.countplot(data=df,x='target')"
   ]
  },
  {
   "cell_type": "code",
   "execution_count": null,
   "metadata": {},
   "outputs": [],
   "source": []
  },
  {
   "attachments": {},
   "cell_type": "markdown",
   "metadata": {},
   "source": [
    "## Preprocess\n"
   ]
  },
  {
   "cell_type": "code",
   "execution_count": 6,
   "metadata": {},
   "outputs": [
    {
     "name": "stderr",
     "output_type": "stream",
     "text": [
      "[nltk_data] Downloading package stopwords to /home/nick/nltk_data...\n",
      "[nltk_data]   Package stopwords is already up-to-date!\n"
     ]
    }
   ],
   "source": [
    "nltk.download('stopwords')\n",
    "stop_words = stopwords.words(\"english\")\n",
    "stemmer = SnowballStemmer(\"english\")\n"
   ]
  },
  {
   "cell_type": "code",
   "execution_count": 9,
   "metadata": {},
   "outputs": [],
   "source": [
    "# stop_words_rus = stopwords.words(\"russian\")\n",
    "# stemmer_r = SnowballStemmer('russian')"
   ]
  },
  {
   "cell_type": "code",
   "execution_count": 10,
   "metadata": {},
   "outputs": [
    {
     "data": {
      "text/plain": [
       "'preffer'"
      ]
     },
     "execution_count": 10,
     "metadata": {},
     "output_type": "execute_result"
    }
   ],
   "source": [
    "# stemmer.stem('prefferencies')"
   ]
  },
  {
   "cell_type": "code",
   "execution_count": 7,
   "metadata": {},
   "outputs": [],
   "source": [
    "# Remove link,user and special characters\n",
    "TEXT_CLEANER_RE = \"@\\S+|https?:\\S+|http?:\\S+|[^A-Za-z0-9]+\"\n",
    "def preprocess_text(text_input, stem=False):\n",
    "    text = re.sub(\n",
    "        TEXT_CLEANER_RE, \n",
    "        ' ', \n",
    "        str(text_input).lower()).strip()\n",
    "    tokens = [ ]\n",
    "    for token in text.split():\n",
    "        if token not in stop_words:\n",
    "            if stem:\n",
    "                tokens.append(stemmer.stem(token))\n",
    "            else:\n",
    "                tokens.append(token)\n",
    "    return \" \".join(tokens)"
   ]
  },
  {
   "cell_type": "code",
   "execution_count": 8,
   "metadata": {},
   "outputs": [
    {
     "name": "stdout",
     "output_type": "stream",
     "text": [
      "530 ms ± 29.5 ms per loop (mean ± std. dev. of 7 runs, 1 loop each)\n"
     ]
    }
   ],
   "source": [
    "%%timeit\n",
    "df_1 = df.copy()\n"
   ]
  },
  {
   "cell_type": "code",
   "execution_count": 9,
   "metadata": {},
   "outputs": [
    {
     "name": "stdout",
     "output_type": "stream",
     "text": [
      "45.9 s ± 536 ms per loop (mean ± std. dev. of 7 runs, 1 loop each)\n"
     ]
    }
   ],
   "source": [
    "%%timeit\n",
    "df.text = df.text.apply(lambda x: preprocess_text(x))\n",
    "df.text.sample(5)"
   ]
  },
  {
   "cell_type": "code",
   "execution_count": null,
   "metadata": {},
   "outputs": [],
   "source": [
    "# df.text.apply(lambda x: len(x) > df.text.apply(len).quantile(0.9))"
   ]
  },
  {
   "attachments": {},
   "cell_type": "markdown",
   "metadata": {},
   "source": [
    "# NLP"
   ]
  },
  {
   "cell_type": "code",
   "execution_count": 11,
   "metadata": {},
   "outputs": [
    {
     "name": "stdout",
     "output_type": "stream",
     "text": [
      "\n",
      "    TRAIN size:1280000 \n",
      "\n",
      "    TEST size: 320000 \n"
     ]
    }
   ],
   "source": [
    "# split by train, test\n",
    "TRAIN_SIZE = 0.8\n",
    "df_train, df_test = train_test_split(df, test_size=1-TRAIN_SIZE, random_state=42)\n",
    "print(f\"\"\"\n",
    "    TRAIN size:{len(df_train)} \\n\n",
    "    TEST size: {len(df_test)} \"\"\")"
   ]
  },
  {
   "cell_type": "code",
   "execution_count": 15,
   "metadata": {},
   "outputs": [
    {
     "name": "stdout",
     "output_type": "stream",
     "text": [
      "CPU times: user 3.94 s, sys: 616 ms, total: 4.55 s\n",
      "Wall time: 4.56 s\n"
     ]
    },
    {
     "data": {
      "text/plain": [
       "1280000"
      ]
     },
     "execution_count": 15,
     "metadata": {},
     "output_type": "execute_result"
    }
   ],
   "source": [
    "%%time\n",
    "documents = [_text.split() for _text in df_train.text]\n",
    "len(documents)"
   ]
  },
  {
   "cell_type": "code",
   "execution_count": 12,
   "metadata": {},
   "outputs": [],
   "source": [
    "# WORD2VEC \n",
    "W2V_SIZE = 300\n",
    "W2V_WINDOW = 7\n",
    "W2V_EPOCH = 32\n",
    "W2V_MIN_COUNT = 10\n",
    "\n",
    "# KERAS\n",
    "SEQUENCE_LENGTH = 300\n",
    "EPOCHS = 8\n",
    "BATCH_SIZE = 1024\n",
    "\n",
    "# SENTIMENT\n",
    "POSITIVE = \"POSITIVE\"\n",
    "NEGATIVE = \"NEGATIVE\"\n",
    "NEUTRAL = \"NEUTRAL\"\n",
    "SENTIMENT_THRESHOLDS = (0.4, 0.7)\n",
    "\n",
    "# EXPORT\n",
    "KERAS_MODEL = \"model.h5\"\n",
    "WORD2VEC_MODEL = \"model.w2v\"\n",
    "TOKENIZER_MODEL = \"tokenizer.pkl\"\n",
    "ENCODER_MODEL = \"encoder.pkl\""
   ]
  },
  {
   "cell_type": "code",
   "execution_count": 13,
   "metadata": {},
   "outputs": [
    {
     "name": "stderr",
     "output_type": "stream",
     "text": [
      "2023-07-18 23:14:53,514 : INFO : Word2Vec lifecycle event {'params': 'Word2Vec<vocab=0, vector_size=300, alpha=0.025>', 'datetime': '2023-07-18T23:14:53.514394', 'gensim': '4.3.1', 'python': '3.10.6 (main, Nov 10 2011, 15:00:00) [GCC 12.2.0]', 'platform': 'Linux-6.2.6-76060206-generic-x86_64-with-glibc2.35', 'event': 'created'}\n"
     ]
    }
   ],
   "source": [
    "w2v_model = gensim.models.word2vec.Word2Vec(\n",
    "    vector_size=W2V_SIZE, \n",
    "    window=W2V_WINDOW, \n",
    "    min_count=W2V_MIN_COUNT, \n",
    "    workers=12)"
   ]
  },
  {
   "cell_type": "code",
   "execution_count": 16,
   "metadata": {},
   "outputs": [
    {
     "name": "stderr",
     "output_type": "stream",
     "text": [
      "2023-07-18 23:15:22,861 : INFO : collecting all words and their counts\n",
      "2023-07-18 23:15:22,862 : INFO : PROGRESS: at sentence #0, processed 0 words, keeping 0 word types\n",
      "2023-07-18 23:15:22,888 : INFO : PROGRESS: at sentence #10000, processed 72565 words, keeping 14005 word types\n",
      "2023-07-18 23:15:22,911 : INFO : PROGRESS: at sentence #20000, processed 144393 words, keeping 21587 word types\n",
      "2023-07-18 23:15:22,933 : INFO : PROGRESS: at sentence #30000, processed 215826 words, keeping 27541 word types\n",
      "2023-07-18 23:15:22,974 : INFO : PROGRESS: at sentence #40000, processed 288271 words, keeping 32764 word types\n",
      "2023-07-18 23:15:23,006 : INFO : PROGRESS: at sentence #50000, processed 359772 words, keeping 37587 word types\n",
      "2023-07-18 23:15:23,049 : INFO : PROGRESS: at sentence #60000, processed 431431 words, keeping 42198 word types\n",
      "2023-07-18 23:15:23,087 : INFO : PROGRESS: at sentence #70000, processed 503103 words, keeping 46458 word types\n",
      "2023-07-18 23:15:23,123 : INFO : PROGRESS: at sentence #80000, processed 575709 words, keeping 50476 word types\n",
      "2023-07-18 23:15:23,153 : INFO : PROGRESS: at sentence #90000, processed 647100 words, keeping 54140 word types\n",
      "2023-07-18 23:15:23,197 : INFO : PROGRESS: at sentence #100000, processed 718681 words, keeping 57777 word types\n",
      "2023-07-18 23:15:23,238 : INFO : PROGRESS: at sentence #110000, processed 790696 words, keeping 61207 word types\n",
      "2023-07-18 23:15:23,276 : INFO : PROGRESS: at sentence #120000, processed 863134 words, keeping 64583 word types\n",
      "2023-07-18 23:15:23,321 : INFO : PROGRESS: at sentence #130000, processed 935111 words, keeping 67865 word types\n",
      "2023-07-18 23:15:23,356 : INFO : PROGRESS: at sentence #140000, processed 1006668 words, keeping 70966 word types\n",
      "2023-07-18 23:15:23,395 : INFO : PROGRESS: at sentence #150000, processed 1078512 words, keeping 74119 word types\n",
      "2023-07-18 23:15:23,434 : INFO : PROGRESS: at sentence #160000, processed 1149914 words, keeping 77187 word types\n",
      "2023-07-18 23:15:23,460 : INFO : PROGRESS: at sentence #170000, processed 1222145 words, keeping 80267 word types\n",
      "2023-07-18 23:15:23,500 : INFO : PROGRESS: at sentence #180000, processed 1294708 words, keeping 83393 word types\n",
      "2023-07-18 23:15:23,529 : INFO : PROGRESS: at sentence #190000, processed 1367608 words, keeping 86329 word types\n",
      "2023-07-18 23:15:23,568 : INFO : PROGRESS: at sentence #200000, processed 1439469 words, keeping 89103 word types\n",
      "2023-07-18 23:15:23,600 : INFO : PROGRESS: at sentence #210000, processed 1512099 words, keeping 91840 word types\n",
      "2023-07-18 23:15:23,641 : INFO : PROGRESS: at sentence #220000, processed 1584149 words, keeping 94636 word types\n",
      "2023-07-18 23:15:23,677 : INFO : PROGRESS: at sentence #230000, processed 1656354 words, keeping 97353 word types\n",
      "2023-07-18 23:15:23,719 : INFO : PROGRESS: at sentence #240000, processed 1728573 words, keeping 99975 word types\n",
      "2023-07-18 23:15:23,758 : INFO : PROGRESS: at sentence #250000, processed 1801102 words, keeping 102594 word types\n",
      "2023-07-18 23:15:23,795 : INFO : PROGRESS: at sentence #260000, processed 1873103 words, keeping 105162 word types\n",
      "2023-07-18 23:15:23,841 : INFO : PROGRESS: at sentence #270000, processed 1945245 words, keeping 107626 word types\n",
      "2023-07-18 23:15:23,894 : INFO : PROGRESS: at sentence #280000, processed 2017163 words, keeping 110141 word types\n",
      "2023-07-18 23:15:23,942 : INFO : PROGRESS: at sentence #290000, processed 2089574 words, keeping 112539 word types\n",
      "2023-07-18 23:15:24,001 : INFO : PROGRESS: at sentence #300000, processed 2160996 words, keeping 114893 word types\n",
      "2023-07-18 23:15:24,039 : INFO : PROGRESS: at sentence #310000, processed 2232913 words, keeping 117298 word types\n",
      "2023-07-18 23:15:24,062 : INFO : PROGRESS: at sentence #320000, processed 2305039 words, keeping 119693 word types\n",
      "2023-07-18 23:15:24,101 : INFO : PROGRESS: at sentence #330000, processed 2377119 words, keeping 122131 word types\n",
      "2023-07-18 23:15:24,138 : INFO : PROGRESS: at sentence #340000, processed 2449370 words, keeping 124416 word types\n",
      "2023-07-18 23:15:24,160 : INFO : PROGRESS: at sentence #350000, processed 2521564 words, keeping 126669 word types\n",
      "2023-07-18 23:15:24,194 : INFO : PROGRESS: at sentence #360000, processed 2593681 words, keeping 128912 word types\n",
      "2023-07-18 23:15:24,226 : INFO : PROGRESS: at sentence #370000, processed 2665692 words, keeping 131135 word types\n",
      "2023-07-18 23:15:24,261 : INFO : PROGRESS: at sentence #380000, processed 2737859 words, keeping 133403 word types\n",
      "2023-07-18 23:15:24,292 : INFO : PROGRESS: at sentence #390000, processed 2809848 words, keeping 135551 word types\n",
      "2023-07-18 23:15:24,317 : INFO : PROGRESS: at sentence #400000, processed 2882438 words, keeping 137742 word types\n",
      "2023-07-18 23:15:24,345 : INFO : PROGRESS: at sentence #410000, processed 2954075 words, keeping 139909 word types\n",
      "2023-07-18 23:15:24,379 : INFO : PROGRESS: at sentence #420000, processed 3026247 words, keeping 142144 word types\n",
      "2023-07-18 23:15:24,405 : INFO : PROGRESS: at sentence #430000, processed 3098659 words, keeping 144364 word types\n",
      "2023-07-18 23:15:24,432 : INFO : PROGRESS: at sentence #440000, processed 3170663 words, keeping 146439 word types\n",
      "2023-07-18 23:15:24,486 : INFO : PROGRESS: at sentence #450000, processed 3243344 words, keeping 148526 word types\n",
      "2023-07-18 23:15:24,526 : INFO : PROGRESS: at sentence #460000, processed 3315466 words, keeping 150610 word types\n",
      "2023-07-18 23:15:24,554 : INFO : PROGRESS: at sentence #470000, processed 3388295 words, keeping 152737 word types\n",
      "2023-07-18 23:15:24,581 : INFO : PROGRESS: at sentence #480000, processed 3460120 words, keeping 154757 word types\n",
      "2023-07-18 23:15:24,621 : INFO : PROGRESS: at sentence #490000, processed 3531883 words, keeping 156825 word types\n",
      "2023-07-18 23:15:24,650 : INFO : PROGRESS: at sentence #500000, processed 3604217 words, keeping 158859 word types\n",
      "2023-07-18 23:15:24,685 : INFO : PROGRESS: at sentence #510000, processed 3676427 words, keeping 160852 word types\n",
      "2023-07-18 23:15:24,720 : INFO : PROGRESS: at sentence #520000, processed 3749045 words, keeping 162863 word types\n",
      "2023-07-18 23:15:24,745 : INFO : PROGRESS: at sentence #530000, processed 3821622 words, keeping 164929 word types\n",
      "2023-07-18 23:15:24,782 : INFO : PROGRESS: at sentence #540000, processed 3893627 words, keeping 166840 word types\n",
      "2023-07-18 23:15:24,808 : INFO : PROGRESS: at sentence #550000, processed 3965477 words, keeping 168799 word types\n",
      "2023-07-18 23:15:24,843 : INFO : PROGRESS: at sentence #560000, processed 4038050 words, keeping 170802 word types\n",
      "2023-07-18 23:15:24,874 : INFO : PROGRESS: at sentence #570000, processed 4110296 words, keeping 172760 word types\n",
      "2023-07-18 23:15:24,906 : INFO : PROGRESS: at sentence #580000, processed 4182385 words, keeping 174635 word types\n",
      "2023-07-18 23:15:24,949 : INFO : PROGRESS: at sentence #590000, processed 4254632 words, keeping 176470 word types\n",
      "2023-07-18 23:15:24,991 : INFO : PROGRESS: at sentence #600000, processed 4326859 words, keeping 178350 word types\n",
      "2023-07-18 23:15:25,018 : INFO : PROGRESS: at sentence #610000, processed 4399183 words, keeping 180290 word types\n",
      "2023-07-18 23:15:25,053 : INFO : PROGRESS: at sentence #620000, processed 4471343 words, keeping 182129 word types\n",
      "2023-07-18 23:15:25,079 : INFO : PROGRESS: at sentence #630000, processed 4543286 words, keeping 184005 word types\n",
      "2023-07-18 23:15:25,111 : INFO : PROGRESS: at sentence #640000, processed 4615780 words, keeping 185835 word types\n",
      "2023-07-18 23:15:25,140 : INFO : PROGRESS: at sentence #650000, processed 4688481 words, keeping 187705 word types\n",
      "2023-07-18 23:15:25,174 : INFO : PROGRESS: at sentence #660000, processed 4760481 words, keeping 189439 word types\n",
      "2023-07-18 23:15:25,205 : INFO : PROGRESS: at sentence #670000, processed 4833024 words, keeping 191232 word types\n",
      "2023-07-18 23:15:25,242 : INFO : PROGRESS: at sentence #680000, processed 4904516 words, keeping 193177 word types\n",
      "2023-07-18 23:15:25,283 : INFO : PROGRESS: at sentence #690000, processed 4976968 words, keeping 194960 word types\n",
      "2023-07-18 23:15:25,327 : INFO : PROGRESS: at sentence #700000, processed 5049412 words, keeping 196725 word types\n",
      "2023-07-18 23:15:25,377 : INFO : PROGRESS: at sentence #710000, processed 5121976 words, keeping 198516 word types\n",
      "2023-07-18 23:15:25,411 : INFO : PROGRESS: at sentence #720000, processed 5193881 words, keeping 200325 word types\n",
      "2023-07-18 23:15:25,441 : INFO : PROGRESS: at sentence #730000, processed 5265467 words, keeping 202133 word types\n",
      "2023-07-18 23:15:25,474 : INFO : PROGRESS: at sentence #740000, processed 5337518 words, keeping 203818 word types\n",
      "2023-07-18 23:15:25,505 : INFO : PROGRESS: at sentence #750000, processed 5409321 words, keeping 205535 word types\n",
      "2023-07-18 23:15:25,532 : INFO : PROGRESS: at sentence #760000, processed 5481512 words, keeping 207282 word types\n",
      "2023-07-18 23:15:25,569 : INFO : PROGRESS: at sentence #770000, processed 5554093 words, keeping 209076 word types\n",
      "2023-07-18 23:15:25,605 : INFO : PROGRESS: at sentence #780000, processed 5625382 words, keeping 210805 word types\n",
      "2023-07-18 23:15:25,643 : INFO : PROGRESS: at sentence #790000, processed 5698066 words, keeping 212618 word types\n",
      "2023-07-18 23:15:25,691 : INFO : PROGRESS: at sentence #800000, processed 5770880 words, keeping 214374 word types\n",
      "2023-07-18 23:15:25,740 : INFO : PROGRESS: at sentence #810000, processed 5843418 words, keeping 216009 word types\n",
      "2023-07-18 23:15:25,784 : INFO : PROGRESS: at sentence #820000, processed 5915628 words, keeping 217804 word types\n",
      "2023-07-18 23:15:25,830 : INFO : PROGRESS: at sentence #830000, processed 5987499 words, keeping 219585 word types\n",
      "2023-07-18 23:15:25,873 : INFO : PROGRESS: at sentence #840000, processed 6058973 words, keeping 221344 word types\n",
      "2023-07-18 23:15:25,903 : INFO : PROGRESS: at sentence #850000, processed 6131125 words, keeping 223002 word types\n",
      "2023-07-18 23:15:25,928 : INFO : PROGRESS: at sentence #860000, processed 6202951 words, keeping 224643 word types\n",
      "2023-07-18 23:15:25,959 : INFO : PROGRESS: at sentence #870000, processed 6275461 words, keeping 226362 word types\n",
      "2023-07-18 23:15:25,994 : INFO : PROGRESS: at sentence #880000, processed 6347661 words, keeping 227986 word types\n",
      "2023-07-18 23:15:26,029 : INFO : PROGRESS: at sentence #890000, processed 6419806 words, keeping 229634 word types\n",
      "2023-07-18 23:15:26,058 : INFO : PROGRESS: at sentence #900000, processed 6491644 words, keeping 231389 word types\n",
      "2023-07-18 23:15:26,092 : INFO : PROGRESS: at sentence #910000, processed 6564022 words, keeping 233050 word types\n",
      "2023-07-18 23:15:26,122 : INFO : PROGRESS: at sentence #920000, processed 6636228 words, keeping 234686 word types\n",
      "2023-07-18 23:15:26,146 : INFO : PROGRESS: at sentence #930000, processed 6708573 words, keeping 236393 word types\n",
      "2023-07-18 23:15:26,176 : INFO : PROGRESS: at sentence #940000, processed 6779956 words, keeping 238052 word types\n",
      "2023-07-18 23:15:26,205 : INFO : PROGRESS: at sentence #950000, processed 6852599 words, keeping 239716 word types\n",
      "2023-07-18 23:15:26,240 : INFO : PROGRESS: at sentence #960000, processed 6924717 words, keeping 241354 word types\n",
      "2023-07-18 23:15:26,290 : INFO : PROGRESS: at sentence #970000, processed 6996992 words, keeping 242980 word types\n",
      "2023-07-18 23:15:26,337 : INFO : PROGRESS: at sentence #980000, processed 7068402 words, keeping 244646 word types\n",
      "2023-07-18 23:15:26,387 : INFO : PROGRESS: at sentence #990000, processed 7140346 words, keeping 246186 word types\n",
      "2023-07-18 23:15:26,416 : INFO : PROGRESS: at sentence #1000000, processed 7211757 words, keeping 247726 word types\n",
      "2023-07-18 23:15:26,444 : INFO : PROGRESS: at sentence #1010000, processed 7283267 words, keeping 249288 word types\n",
      "2023-07-18 23:15:26,475 : INFO : PROGRESS: at sentence #1020000, processed 7355299 words, keeping 250860 word types\n",
      "2023-07-18 23:15:26,505 : INFO : PROGRESS: at sentence #1030000, processed 7426918 words, keeping 252366 word types\n",
      "2023-07-18 23:15:26,535 : INFO : PROGRESS: at sentence #1040000, processed 7498815 words, keeping 253930 word types\n",
      "2023-07-18 23:15:26,562 : INFO : PROGRESS: at sentence #1050000, processed 7570499 words, keeping 255471 word types\n",
      "2023-07-18 23:15:26,594 : INFO : PROGRESS: at sentence #1060000, processed 7643251 words, keeping 257035 word types\n",
      "2023-07-18 23:15:26,635 : INFO : PROGRESS: at sentence #1070000, processed 7714721 words, keeping 258509 word types\n",
      "2023-07-18 23:15:26,666 : INFO : PROGRESS: at sentence #1080000, processed 7787371 words, keeping 260071 word types\n",
      "2023-07-18 23:15:26,705 : INFO : PROGRESS: at sentence #1090000, processed 7859336 words, keeping 261683 word types\n",
      "2023-07-18 23:15:26,729 : INFO : PROGRESS: at sentence #1100000, processed 7932029 words, keeping 263278 word types\n",
      "2023-07-18 23:15:26,764 : INFO : PROGRESS: at sentence #1110000, processed 8004146 words, keeping 264800 word types\n",
      "2023-07-18 23:15:26,800 : INFO : PROGRESS: at sentence #1120000, processed 8075880 words, keeping 266309 word types\n",
      "2023-07-18 23:15:26,833 : INFO : PROGRESS: at sentence #1130000, processed 8148163 words, keeping 267826 word types\n",
      "2023-07-18 23:15:26,870 : INFO : PROGRESS: at sentence #1140000, processed 8220487 words, keeping 269391 word types\n",
      "2023-07-18 23:15:26,903 : INFO : PROGRESS: at sentence #1150000, processed 8292498 words, keeping 270894 word types\n",
      "2023-07-18 23:15:26,939 : INFO : PROGRESS: at sentence #1160000, processed 8363838 words, keeping 272400 word types\n",
      "2023-07-18 23:15:26,982 : INFO : PROGRESS: at sentence #1170000, processed 8435510 words, keeping 273970 word types\n",
      "2023-07-18 23:15:27,026 : INFO : PROGRESS: at sentence #1180000, processed 8507795 words, keeping 275521 word types\n",
      "2023-07-18 23:15:27,070 : INFO : PROGRESS: at sentence #1190000, processed 8579080 words, keeping 277007 word types\n",
      "2023-07-18 23:15:27,104 : INFO : PROGRESS: at sentence #1200000, processed 8650606 words, keeping 278457 word types\n",
      "2023-07-18 23:15:27,128 : INFO : PROGRESS: at sentence #1210000, processed 8721893 words, keeping 279959 word types\n",
      "2023-07-18 23:15:27,160 : INFO : PROGRESS: at sentence #1220000, processed 8793795 words, keeping 281427 word types\n",
      "2023-07-18 23:15:27,187 : INFO : PROGRESS: at sentence #1230000, processed 8865726 words, keeping 282981 word types\n",
      "2023-07-18 23:15:27,213 : INFO : PROGRESS: at sentence #1240000, processed 8938173 words, keeping 284542 word types\n",
      "2023-07-18 23:15:27,246 : INFO : PROGRESS: at sentence #1250000, processed 9010842 words, keeping 286064 word types\n",
      "2023-07-18 23:15:27,277 : INFO : PROGRESS: at sentence #1260000, processed 9083261 words, keeping 287521 word types\n",
      "2023-07-18 23:15:27,306 : INFO : PROGRESS: at sentence #1270000, processed 9155616 words, keeping 288987 word types\n",
      "2023-07-18 23:15:27,335 : INFO : collected 290418 word types from a corpus of 9227204 raw words and 1280000 sentences\n",
      "2023-07-18 23:15:27,336 : INFO : Creating a fresh vocabulary\n",
      "2023-07-18 23:15:27,599 : INFO : Word2Vec lifecycle event {'msg': 'effective_min_count=10 retains 30369 unique words (10.46% of original 290418, drops 260049)', 'datetime': '2023-07-18T23:15:27.599287', 'gensim': '4.3.1', 'python': '3.10.6 (main, Nov 10 2011, 15:00:00) [GCC 12.2.0]', 'platform': 'Linux-6.2.6-76060206-generic-x86_64-with-glibc2.35', 'event': 'prepare_vocab'}\n",
      "2023-07-18 23:15:27,601 : INFO : Word2Vec lifecycle event {'msg': 'effective_min_count=10 leaves 8780739 word corpus (95.16% of original 9227204, drops 446465)', 'datetime': '2023-07-18T23:15:27.601043', 'gensim': '4.3.1', 'python': '3.10.6 (main, Nov 10 2011, 15:00:00) [GCC 12.2.0]', 'platform': 'Linux-6.2.6-76060206-generic-x86_64-with-glibc2.35', 'event': 'prepare_vocab'}\n",
      "2023-07-18 23:15:27,823 : INFO : deleting the raw counts dictionary of 290418 items\n",
      "2023-07-18 23:15:27,832 : INFO : sample=0.001 downsamples 45 most-common words\n",
      "2023-07-18 23:15:27,835 : INFO : Word2Vec lifecycle event {'msg': 'downsampling leaves estimated 8222658.616429881 word corpus (93.6%% of prior 8780739)', 'datetime': '2023-07-18T23:15:27.835146', 'gensim': '4.3.1', 'python': '3.10.6 (main, Nov 10 2011, 15:00:00) [GCC 12.2.0]', 'platform': 'Linux-6.2.6-76060206-generic-x86_64-with-glibc2.35', 'event': 'prepare_vocab'}\n",
      "2023-07-18 23:15:28,141 : INFO : estimated required memory for 30369 words and 300 dimensions: 88070100 bytes\n",
      "2023-07-18 23:15:28,142 : INFO : resetting layer weights\n",
      "2023-07-18 23:15:28,261 : INFO : Word2Vec lifecycle event {'update': False, 'trim_rule': 'None', 'datetime': '2023-07-18T23:15:28.261899', 'gensim': '4.3.1', 'python': '3.10.6 (main, Nov 10 2011, 15:00:00) [GCC 12.2.0]', 'platform': 'Linux-6.2.6-76060206-generic-x86_64-with-glibc2.35', 'event': 'build_vocab'}\n"
     ]
    }
   ],
   "source": [
    "w2v_model.build_vocab(documents)   "
   ]
  },
  {
   "cell_type": "code",
   "execution_count": 17,
   "metadata": {},
   "outputs": [
    {
     "name": "stdout",
     "output_type": "stream",
     "text": [
      "Vocab size: 30369\n"
     ]
    }
   ],
   "source": [
    "words = list(w2v_model.wv.key_to_index.keys())\n",
    "vocab_size = len(words)\n",
    "print(\"Vocab size:\", vocab_size)"
   ]
  },
  {
   "cell_type": "code",
   "execution_count": 18,
   "metadata": {},
   "outputs": [
    {
     "name": "stderr",
     "output_type": "stream",
     "text": [
      "2023-07-18 23:15:44,176 : INFO : Word2Vec lifecycle event {'msg': 'training model with 12 workers on 30369 vocabulary and 300 features, using sg=0 hs=0 sample=0.001 negative=5 window=7 shrink_windows=True', 'datetime': '2023-07-18T23:15:44.176006', 'gensim': '4.3.1', 'python': '3.10.6 (main, Nov 10 2011, 15:00:00) [GCC 12.2.0]', 'platform': 'Linux-6.2.6-76060206-generic-x86_64-with-glibc2.35', 'event': 'train'}\n",
      "2023-07-18 23:15:45,206 : INFO : EPOCH 0 - PROGRESS: at 8.04% examples, 650812 words/s, in_qsize 19, out_qsize 4\n",
      "2023-07-18 23:15:46,209 : INFO : EPOCH 0 - PROGRESS: at 17.03% examples, 693628 words/s, in_qsize 23, out_qsize 0\n",
      "2023-07-18 23:15:47,254 : INFO : EPOCH 0 - PROGRESS: at 25.37% examples, 681021 words/s, in_qsize 23, out_qsize 0\n",
      "2023-07-18 23:15:48,292 : INFO : EPOCH 0 - PROGRESS: at 34.03% examples, 682283 words/s, in_qsize 23, out_qsize 0\n",
      "2023-07-18 23:15:49,299 : INFO : EPOCH 0 - PROGRESS: at 42.24% examples, 680379 words/s, in_qsize 22, out_qsize 1\n",
      "2023-07-18 23:15:50,344 : INFO : EPOCH 0 - PROGRESS: at 50.88% examples, 680633 words/s, in_qsize 23, out_qsize 2\n",
      "2023-07-18 23:15:51,357 : INFO : EPOCH 0 - PROGRESS: at 59.01% examples, 677662 words/s, in_qsize 21, out_qsize 2\n",
      "2023-07-18 23:15:52,377 : INFO : EPOCH 0 - PROGRESS: at 67.13% examples, 674839 words/s, in_qsize 22, out_qsize 2\n",
      "2023-07-18 23:15:53,393 : INFO : EPOCH 0 - PROGRESS: at 75.46% examples, 674853 words/s, in_qsize 24, out_qsize 1\n",
      "2023-07-18 23:15:54,398 : INFO : EPOCH 0 - PROGRESS: at 83.94% examples, 676445 words/s, in_qsize 21, out_qsize 2\n",
      "2023-07-18 23:15:55,443 : INFO : EPOCH 0 - PROGRESS: at 92.39% examples, 675296 words/s, in_qsize 22, out_qsize 1\n",
      "2023-07-18 23:15:56,271 : INFO : EPOCH 0: training on 9227204 raw words (8221275 effective words) took 12.1s, 680717 effective words/s\n",
      "2023-07-18 23:15:57,290 : INFO : EPOCH 1 - PROGRESS: at 7.93% examples, 643876 words/s, in_qsize 23, out_qsize 0\n",
      "2023-07-18 23:15:58,301 : INFO : EPOCH 1 - PROGRESS: at 15.73% examples, 639015 words/s, in_qsize 23, out_qsize 0\n",
      "2023-07-18 23:15:59,346 : INFO : EPOCH 1 - PROGRESS: at 23.31% examples, 624655 words/s, in_qsize 20, out_qsize 3\n",
      "2023-07-18 23:16:00,373 : INFO : EPOCH 1 - PROGRESS: at 31.10% examples, 624755 words/s, in_qsize 24, out_qsize 0\n",
      "2023-07-18 23:16:01,451 : INFO : EPOCH 1 - PROGRESS: at 38.13% examples, 606379 words/s, in_qsize 21, out_qsize 2\n",
      "2023-07-18 23:16:02,482 : INFO : EPOCH 1 - PROGRESS: at 45.48% examples, 603224 words/s, in_qsize 23, out_qsize 2\n",
      "2023-07-18 23:16:03,500 : INFO : EPOCH 1 - PROGRESS: at 52.19% examples, 594700 words/s, in_qsize 23, out_qsize 5\n",
      "2023-07-18 23:16:04,578 : INFO : EPOCH 1 - PROGRESS: at 59.12% examples, 586176 words/s, in_qsize 20, out_qsize 3\n",
      "2023-07-18 23:16:05,584 : INFO : EPOCH 1 - PROGRESS: at 66.59% examples, 588862 words/s, in_qsize 23, out_qsize 0\n",
      "2023-07-18 23:16:06,597 : INFO : EPOCH 1 - PROGRESS: at 74.27% examples, 592318 words/s, in_qsize 23, out_qsize 0\n",
      "2023-07-18 23:16:07,605 : INFO : EPOCH 1 - PROGRESS: at 81.23% examples, 589904 words/s, in_qsize 23, out_qsize 0\n",
      "2023-07-18 23:16:08,610 : INFO : EPOCH 1 - PROGRESS: at 88.91% examples, 593119 words/s, in_qsize 23, out_qsize 0\n",
      "2023-07-18 23:16:09,615 : INFO : EPOCH 1 - PROGRESS: at 96.75% examples, 596485 words/s, in_qsize 24, out_qsize 1\n",
      "2023-07-18 23:16:09,921 : INFO : EPOCH 1: training on 9227204 raw words (8222171 effective words) took 13.6s, 602737 effective words/s\n",
      "2023-07-18 23:16:10,994 : INFO : EPOCH 2 - PROGRESS: at 8.04% examples, 619174 words/s, in_qsize 24, out_qsize 0\n",
      "2023-07-18 23:16:12,005 : INFO : EPOCH 2 - PROGRESS: at 16.70% examples, 661063 words/s, in_qsize 23, out_qsize 0\n",
      "2023-07-18 23:16:13,030 : INFO : EPOCH 2 - PROGRESS: at 24.61% examples, 652355 words/s, in_qsize 24, out_qsize 2\n",
      "2023-07-18 23:16:14,059 : INFO : EPOCH 2 - PROGRESS: at 32.95% examples, 655809 words/s, in_qsize 22, out_qsize 1\n",
      "2023-07-18 23:16:15,103 : INFO : EPOCH 2 - PROGRESS: at 41.26% examples, 655990 words/s, in_qsize 20, out_qsize 3\n",
      "2023-07-18 23:16:16,122 : INFO : EPOCH 2 - PROGRESS: at 48.84% examples, 648735 words/s, in_qsize 23, out_qsize 0\n",
      "2023-07-18 23:16:17,137 : INFO : EPOCH 2 - PROGRESS: at 56.84% examples, 648963 words/s, in_qsize 21, out_qsize 2\n",
      "2023-07-18 23:16:18,153 : INFO : EPOCH 2 - PROGRESS: at 65.82% examples, 658699 words/s, in_qsize 23, out_qsize 0\n",
      "2023-07-18 23:16:19,163 : INFO : EPOCH 2 - PROGRESS: at 73.41% examples, 654187 words/s, in_qsize 22, out_qsize 1\n",
      "2023-07-18 23:16:20,204 : INFO : EPOCH 2 - PROGRESS: at 81.88% examples, 655520 words/s, in_qsize 23, out_qsize 0\n",
      "2023-07-18 23:16:21,232 : INFO : EPOCH 2 - PROGRESS: at 90.98% examples, 662023 words/s, in_qsize 24, out_qsize 0\n",
      "2023-07-18 23:16:22,247 : INFO : EPOCH 2 - PROGRESS: at 99.78% examples, 666134 words/s, in_qsize 2, out_qsize 1\n",
      "2023-07-18 23:16:22,254 : INFO : EPOCH 2: training on 9227204 raw words (8223023 effective words) took 12.3s, 667218 effective words/s\n",
      "2023-07-18 23:16:23,272 : INFO : EPOCH 3 - PROGRESS: at 7.28% examples, 590656 words/s, in_qsize 19, out_qsize 4\n",
      "2023-07-18 23:16:24,306 : INFO : EPOCH 3 - PROGRESS: at 15.08% examples, 605745 words/s, in_qsize 23, out_qsize 0\n",
      "2023-07-18 23:16:25,306 : INFO : EPOCH 3 - PROGRESS: at 22.98% examples, 620441 words/s, in_qsize 23, out_qsize 0\n",
      "2023-07-18 23:16:26,329 : INFO : EPOCH 3 - PROGRESS: at 30.46% examples, 615539 words/s, in_qsize 22, out_qsize 1\n",
      "2023-07-18 23:16:27,340 : INFO : EPOCH 3 - PROGRESS: at 38.57% examples, 624479 words/s, in_qsize 22, out_qsize 3\n",
      "2023-07-18 23:16:28,345 : INFO : EPOCH 3 - PROGRESS: at 46.78% examples, 632649 words/s, in_qsize 24, out_qsize 0\n",
      "2023-07-18 23:16:29,347 : INFO : EPOCH 3 - PROGRESS: at 54.24% examples, 630031 words/s, in_qsize 24, out_qsize 2\n",
      "2023-07-18 23:16:30,392 : INFO : EPOCH 3 - PROGRESS: at 62.89% examples, 636653 words/s, in_qsize 24, out_qsize 2\n",
      "2023-07-18 23:16:31,451 : INFO : EPOCH 3 - PROGRESS: at 71.35% examples, 638927 words/s, in_qsize 16, out_qsize 11\n",
      "2023-07-18 23:16:32,459 : INFO : EPOCH 3 - PROGRESS: at 80.25% examples, 647413 words/s, in_qsize 23, out_qsize 0\n",
      "2023-07-18 23:16:33,483 : INFO : EPOCH 3 - PROGRESS: at 87.72% examples, 643078 words/s, in_qsize 23, out_qsize 0\n",
      "2023-07-18 23:16:34,494 : INFO : EPOCH 3 - PROGRESS: at 95.34% examples, 640851 words/s, in_qsize 24, out_qsize 0\n",
      "2023-07-18 23:16:35,054 : INFO : EPOCH 3: training on 9227204 raw words (8223379 effective words) took 12.8s, 642837 effective words/s\n",
      "2023-07-18 23:16:36,089 : INFO : EPOCH 4 - PROGRESS: at 6.84% examples, 546746 words/s, in_qsize 23, out_qsize 0\n",
      "2023-07-18 23:16:37,094 : INFO : EPOCH 4 - PROGRESS: at 14.86% examples, 600638 words/s, in_qsize 22, out_qsize 1\n",
      "2023-07-18 23:16:38,102 : INFO : EPOCH 4 - PROGRESS: at 21.57% examples, 583123 words/s, in_qsize 23, out_qsize 0\n",
      "2023-07-18 23:16:39,146 : INFO : EPOCH 4 - PROGRESS: at 29.05% examples, 584675 words/s, in_qsize 21, out_qsize 2\n",
      "2023-07-18 23:16:40,152 : INFO : EPOCH 4 - PROGRESS: at 35.97% examples, 581085 words/s, in_qsize 23, out_qsize 1\n",
      "2023-07-18 23:16:41,169 : INFO : EPOCH 4 - PROGRESS: at 42.14% examples, 567435 words/s, in_qsize 22, out_qsize 2\n",
      "2023-07-18 23:16:42,182 : INFO : EPOCH 4 - PROGRESS: at 49.06% examples, 566774 words/s, in_qsize 23, out_qsize 0\n",
      "2023-07-18 23:16:43,198 : INFO : EPOCH 4 - PROGRESS: at 57.38% examples, 580335 words/s, in_qsize 23, out_qsize 0\n",
      "2023-07-18 23:16:44,235 : INFO : EPOCH 4 - PROGRESS: at 65.39% examples, 586638 words/s, in_qsize 23, out_qsize 0\n",
      "2023-07-18 23:16:45,240 : INFO : EPOCH 4 - PROGRESS: at 73.41% examples, 593436 words/s, in_qsize 23, out_qsize 1\n",
      "2023-07-18 23:16:46,248 : INFO : EPOCH 4 - PROGRESS: at 81.01% examples, 595678 words/s, in_qsize 24, out_qsize 0\n",
      "2023-07-18 23:16:47,271 : INFO : EPOCH 4 - PROGRESS: at 88.69% examples, 597540 words/s, in_qsize 23, out_qsize 0\n",
      "2023-07-18 23:16:48,273 : INFO : EPOCH 4 - PROGRESS: at 97.28% examples, 605445 words/s, in_qsize 23, out_qsize 0\n",
      "2023-07-18 23:16:48,550 : INFO : EPOCH 4: training on 9227204 raw words (8221804 effective words) took 13.5s, 609598 effective words/s\n",
      "2023-07-18 23:16:49,587 : INFO : EPOCH 5 - PROGRESS: at 8.37% examples, 666665 words/s, in_qsize 24, out_qsize 3\n",
      "2023-07-18 23:16:50,613 : INFO : EPOCH 5 - PROGRESS: at 17.89% examples, 715315 words/s, in_qsize 23, out_qsize 0\n",
      "2023-07-18 23:16:51,628 : INFO : EPOCH 5 - PROGRESS: at 26.34% examples, 705088 words/s, in_qsize 22, out_qsize 1\n",
      "2023-07-18 23:16:52,642 : INFO : EPOCH 5 - PROGRESS: at 35.32% examples, 711252 words/s, in_qsize 24, out_qsize 1\n",
      "2023-07-18 23:16:53,648 : INFO : EPOCH 5 - PROGRESS: at 44.73% examples, 722908 words/s, in_qsize 21, out_qsize 2\n",
      "2023-07-18 23:16:54,660 : INFO : EPOCH 5 - PROGRESS: at 54.78% examples, 738850 words/s, in_qsize 23, out_qsize 0\n",
      "2023-07-18 23:16:55,665 : INFO : EPOCH 5 - PROGRESS: at 64.19% examples, 743403 words/s, in_qsize 23, out_qsize 0\n",
      "2023-07-18 23:16:56,671 : INFO : EPOCH 5 - PROGRESS: at 73.51% examples, 745636 words/s, in_qsize 22, out_qsize 1\n",
      "2023-07-18 23:16:57,685 : INFO : EPOCH 5 - PROGRESS: at 82.96% examples, 747693 words/s, in_qsize 23, out_qsize 0\n",
      "2023-07-18 23:16:58,687 : INFO : EPOCH 5 - PROGRESS: at 92.72% examples, 752762 words/s, in_qsize 24, out_qsize 0\n",
      "2023-07-18 23:16:59,390 : INFO : EPOCH 5: training on 9227204 raw words (8222418 effective words) took 10.8s, 759136 effective words/s\n",
      "2023-07-18 23:17:00,412 : INFO : EPOCH 6 - PROGRESS: at 8.90% examples, 721711 words/s, in_qsize 23, out_qsize 0\n",
      "2023-07-18 23:17:01,420 : INFO : EPOCH 6 - PROGRESS: at 17.89% examples, 727368 words/s, in_qsize 22, out_qsize 1\n",
      "2023-07-18 23:17:02,432 : INFO : EPOCH 6 - PROGRESS: at 26.67% examples, 722459 words/s, in_qsize 23, out_qsize 0\n",
      "2023-07-18 23:17:03,439 : INFO : EPOCH 6 - PROGRESS: at 35.11% examples, 714553 words/s, in_qsize 24, out_qsize 1\n",
      "2023-07-18 23:17:04,439 : INFO : EPOCH 6 - PROGRESS: at 44.07% examples, 719458 words/s, in_qsize 24, out_qsize 0\n",
      "2023-07-18 23:17:05,440 : INFO : EPOCH 6 - PROGRESS: at 53.27% examples, 725598 words/s, in_qsize 19, out_qsize 4\n",
      "2023-07-18 23:17:06,464 : INFO : EPOCH 6 - PROGRESS: at 62.89% examples, 732703 words/s, in_qsize 23, out_qsize 0\n",
      "2023-07-18 23:17:07,467 : INFO : EPOCH 6 - PROGRESS: at 72.64% examples, 740915 words/s, in_qsize 23, out_qsize 0\n",
      "2023-07-18 23:17:08,534 : INFO : EPOCH 6 - PROGRESS: at 82.53% examples, 743138 words/s, in_qsize 22, out_qsize 1\n",
      "2023-07-18 23:17:09,536 : INFO : EPOCH 6 - PROGRESS: at 92.06% examples, 746924 words/s, in_qsize 20, out_qsize 3\n",
      "2023-07-18 23:17:10,329 : INFO : EPOCH 6: training on 9227204 raw words (8222718 effective words) took 10.9s, 752341 effective words/s\n",
      "2023-07-18 23:17:11,390 : INFO : EPOCH 7 - PROGRESS: at 8.47% examples, 660778 words/s, in_qsize 22, out_qsize 1\n",
      "2023-07-18 23:17:12,392 : INFO : EPOCH 7 - PROGRESS: at 18.00% examples, 720079 words/s, in_qsize 21, out_qsize 2\n",
      "2023-07-18 23:17:13,397 : INFO : EPOCH 7 - PROGRESS: at 27.31% examples, 734138 words/s, in_qsize 22, out_qsize 1\n",
      "2023-07-18 23:17:14,471 : INFO : EPOCH 7 - PROGRESS: at 36.72% examples, 730840 words/s, in_qsize 24, out_qsize 2\n",
      "2023-07-18 23:17:15,513 : INFO : EPOCH 7 - PROGRESS: at 46.24% examples, 735121 words/s, in_qsize 19, out_qsize 4\n",
      "2023-07-18 23:17:16,516 : INFO : EPOCH 7 - PROGRESS: at 55.64% examples, 741329 words/s, in_qsize 23, out_qsize 5\n",
      "2023-07-18 23:17:17,526 : INFO : EPOCH 7 - PROGRESS: at 65.17% examples, 746224 words/s, in_qsize 22, out_qsize 1\n",
      "2023-07-18 23:17:18,541 : INFO : EPOCH 7 - PROGRESS: at 73.62% examples, 738592 words/s, in_qsize 23, out_qsize 0\n",
      "2023-07-18 23:17:19,595 : INFO : EPOCH 7 - PROGRESS: at 81.34% examples, 722825 words/s, in_qsize 21, out_qsize 2\n",
      "2023-07-18 23:17:20,606 : INFO : EPOCH 7 - PROGRESS: at 88.91% examples, 712345 words/s, in_qsize 24, out_qsize 4\n",
      "2023-07-18 23:17:21,617 : INFO : EPOCH 7 - PROGRESS: at 96.96% examples, 706907 words/s, in_qsize 21, out_qsize 2\n",
      "2023-07-18 23:17:22,012 : INFO : EPOCH 7: training on 9227204 raw words (8222748 effective words) took 11.7s, 704441 effective words/s\n",
      "2023-07-18 23:17:23,044 : INFO : EPOCH 8 - PROGRESS: at 7.17% examples, 574814 words/s, in_qsize 23, out_qsize 0\n",
      "2023-07-18 23:17:24,055 : INFO : EPOCH 8 - PROGRESS: at 15.19% examples, 612945 words/s, in_qsize 20, out_qsize 3\n",
      "2023-07-18 23:17:25,072 : INFO : EPOCH 8 - PROGRESS: at 23.84% examples, 642410 words/s, in_qsize 23, out_qsize 0\n",
      "2023-07-18 23:17:26,116 : INFO : EPOCH 8 - PROGRESS: at 32.08% examples, 643901 words/s, in_qsize 20, out_qsize 3\n",
      "2023-07-18 23:17:27,119 : INFO : EPOCH 8 - PROGRESS: at 41.48% examples, 669305 words/s, in_qsize 24, out_qsize 0\n",
      "2023-07-18 23:17:28,182 : INFO : EPOCH 8 - PROGRESS: at 49.59% examples, 662240 words/s, in_qsize 22, out_qsize 3\n",
      "2023-07-18 23:17:29,184 : INFO : EPOCH 8 - PROGRESS: at 58.47% examples, 671652 words/s, in_qsize 24, out_qsize 0\n",
      "2023-07-18 23:17:30,192 : INFO : EPOCH 8 - PROGRESS: at 66.91% examples, 673842 words/s, in_qsize 24, out_qsize 1\n",
      "2023-07-18 23:17:31,232 : INFO : EPOCH 8 - PROGRESS: at 75.57% examples, 675099 words/s, in_qsize 24, out_qsize 4\n",
      "2023-07-18 23:17:32,277 : INFO : EPOCH 8 - PROGRESS: at 84.37% examples, 676709 words/s, in_qsize 24, out_qsize 2\n",
      "2023-07-18 23:17:33,280 : INFO : EPOCH 8 - PROGRESS: at 92.94% examples, 678836 words/s, in_qsize 23, out_qsize 0\n",
      "2023-07-18 23:17:34,030 : INFO : EPOCH 8: training on 9227204 raw words (8222974 effective words) took 12.0s, 684712 effective words/s\n",
      "2023-07-18 23:17:35,046 : INFO : EPOCH 9 - PROGRESS: at 7.82% examples, 636451 words/s, in_qsize 23, out_qsize 0\n",
      "2023-07-18 23:17:36,110 : INFO : EPOCH 9 - PROGRESS: at 14.86% examples, 589289 words/s, in_qsize 22, out_qsize 1\n",
      "2023-07-18 23:17:37,128 : INFO : EPOCH 9 - PROGRESS: at 23.53% examples, 625775 words/s, in_qsize 20, out_qsize 3\n",
      "2023-07-18 23:17:38,144 : INFO : EPOCH 9 - PROGRESS: at 32.19% examples, 644433 words/s, in_qsize 21, out_qsize 2\n",
      "2023-07-18 23:17:39,152 : INFO : EPOCH 9 - PROGRESS: at 40.62% examples, 653283 words/s, in_qsize 20, out_qsize 3\n",
      "2023-07-18 23:17:40,199 : INFO : EPOCH 9 - PROGRESS: at 49.27% examples, 657980 words/s, in_qsize 21, out_qsize 2\n",
      "2023-07-18 23:17:41,203 : INFO : EPOCH 9 - PROGRESS: at 58.14% examples, 667770 words/s, in_qsize 23, out_qsize 0\n",
      "2023-07-18 23:17:42,259 : INFO : EPOCH 9 - PROGRESS: at 65.17% examples, 652419 words/s, in_qsize 21, out_qsize 2\n",
      "2023-07-18 23:17:43,284 : INFO : EPOCH 9 - PROGRESS: at 72.64% examples, 646554 words/s, in_qsize 24, out_qsize 1\n",
      "2023-07-18 23:17:44,335 : INFO : EPOCH 9 - PROGRESS: at 79.92% examples, 638500 words/s, in_qsize 21, out_qsize 2\n",
      "2023-07-18 23:17:45,352 : INFO : EPOCH 9 - PROGRESS: at 86.85% examples, 631515 words/s, in_qsize 24, out_qsize 0\n",
      "2023-07-18 23:17:46,383 : INFO : EPOCH 9 - PROGRESS: at 93.92% examples, 625621 words/s, in_qsize 24, out_qsize 0\n",
      "2023-07-18 23:17:47,172 : INFO : EPOCH 9: training on 9227204 raw words (8222794 effective words) took 13.1s, 626107 effective words/s\n",
      "2023-07-18 23:17:48,189 : INFO : EPOCH 10 - PROGRESS: at 6.84% examples, 556966 words/s, in_qsize 22, out_qsize 1\n",
      "2023-07-18 23:17:49,229 : INFO : EPOCH 10 - PROGRESS: at 14.00% examples, 561470 words/s, in_qsize 23, out_qsize 0\n",
      "2023-07-18 23:17:50,234 : INFO : EPOCH 10 - PROGRESS: at 21.03% examples, 566231 words/s, in_qsize 22, out_qsize 1\n",
      "2023-07-18 23:17:51,283 : INFO : EPOCH 10 - PROGRESS: at 28.07% examples, 562610 words/s, in_qsize 21, out_qsize 2\n",
      "2023-07-18 23:17:52,284 : INFO : EPOCH 10 - PROGRESS: at 35.22% examples, 567517 words/s, in_qsize 21, out_qsize 2\n",
      "2023-07-18 23:17:53,292 : INFO : EPOCH 10 - PROGRESS: at 43.43% examples, 584645 words/s, in_qsize 22, out_qsize 1\n",
      "2023-07-18 23:17:54,295 : INFO : EPOCH 10 - PROGRESS: at 51.96% examples, 601127 words/s, in_qsize 24, out_qsize 0\n",
      "2023-07-18 23:17:55,308 : INFO : EPOCH 10 - PROGRESS: at 60.09% examples, 608470 words/s, in_qsize 23, out_qsize 0\n",
      "2023-07-18 23:17:56,317 : INFO : EPOCH 10 - PROGRESS: at 67.66% examples, 609494 words/s, in_qsize 20, out_qsize 4\n",
      "2023-07-18 23:17:57,340 : INFO : EPOCH 10 - PROGRESS: at 75.57% examples, 612138 words/s, in_qsize 24, out_qsize 0\n",
      "2023-07-18 23:17:58,362 : INFO : EPOCH 10 - PROGRESS: at 83.07% examples, 611159 words/s, in_qsize 24, out_qsize 2\n",
      "2023-07-18 23:17:59,410 : INFO : EPOCH 10 - PROGRESS: at 90.65% examples, 609731 words/s, in_qsize 22, out_qsize 1\n",
      "2023-07-18 23:18:00,413 : INFO : EPOCH 10 - PROGRESS: at 98.15% examples, 609946 words/s, in_qsize 18, out_qsize 0\n",
      "2023-07-18 23:18:00,645 : INFO : EPOCH 10: training on 9227204 raw words (8222607 effective words) took 13.5s, 610724 effective words/s\n",
      "2023-07-18 23:18:01,684 : INFO : EPOCH 11 - PROGRESS: at 6.62% examples, 527447 words/s, in_qsize 21, out_qsize 2\n",
      "2023-07-18 23:18:02,701 : INFO : EPOCH 11 - PROGRESS: at 14.00% examples, 561545 words/s, in_qsize 23, out_qsize 0\n",
      "2023-07-18 23:18:03,749 : INFO : EPOCH 11 - PROGRESS: at 21.79% examples, 578604 words/s, in_qsize 22, out_qsize 1\n",
      "2023-07-18 23:18:04,771 : INFO : EPOCH 11 - PROGRESS: at 29.05% examples, 579928 words/s, in_qsize 23, out_qsize 2\n",
      "2023-07-18 23:18:05,772 : INFO : EPOCH 11 - PROGRESS: at 36.83% examples, 591694 words/s, in_qsize 23, out_qsize 2\n",
      "2023-07-18 23:18:06,826 : INFO : EPOCH 11 - PROGRESS: at 45.48% examples, 606148 words/s, in_qsize 19, out_qsize 4\n",
      "2023-07-18 23:18:07,829 : INFO : EPOCH 11 - PROGRESS: at 53.81% examples, 617056 words/s, in_qsize 23, out_qsize 0\n",
      "2023-07-18 23:18:08,848 : INFO : EPOCH 11 - PROGRESS: at 62.36% examples, 626283 words/s, in_qsize 23, out_qsize 0\n",
      "2023-07-18 23:18:09,854 : INFO : EPOCH 11 - PROGRESS: at 70.37% examples, 629405 words/s, in_qsize 22, out_qsize 1\n",
      "2023-07-18 23:18:10,862 : INFO : EPOCH 11 - PROGRESS: at 79.27% examples, 638716 words/s, in_qsize 24, out_qsize 0\n",
      "2023-07-18 23:18:11,920 : INFO : EPOCH 11 - PROGRESS: at 87.62% examples, 639677 words/s, in_qsize 22, out_qsize 1\n",
      "2023-07-18 23:18:12,939 : INFO : EPOCH 11 - PROGRESS: at 96.53% examples, 646002 words/s, in_qsize 24, out_qsize 3\n",
      "2023-07-18 23:18:13,276 : INFO : EPOCH 11: training on 9227204 raw words (8221940 effective words) took 12.6s, 651388 effective words/s\n",
      "2023-07-18 23:18:14,331 : INFO : EPOCH 12 - PROGRESS: at 7.93% examples, 621350 words/s, in_qsize 22, out_qsize 1\n",
      "2023-07-18 23:18:15,351 : INFO : EPOCH 12 - PROGRESS: at 15.95% examples, 633732 words/s, in_qsize 22, out_qsize 2\n",
      "2023-07-18 23:18:16,368 : INFO : EPOCH 12 - PROGRESS: at 23.95% examples, 638558 words/s, in_qsize 20, out_qsize 3\n",
      "2023-07-18 23:18:17,399 : INFO : EPOCH 12 - PROGRESS: at 31.97% examples, 638790 words/s, in_qsize 22, out_qsize 1\n",
      "2023-07-18 23:18:18,418 : INFO : EPOCH 12 - PROGRESS: at 40.40% examples, 647267 words/s, in_qsize 23, out_qsize 0\n",
      "2023-07-18 23:18:19,426 : INFO : EPOCH 12 - PROGRESS: at 48.73% examples, 652692 words/s, in_qsize 23, out_qsize 0\n",
      "2023-07-18 23:18:20,435 : INFO : EPOCH 12 - PROGRESS: at 57.27% examples, 659146 words/s, in_qsize 23, out_qsize 0\n",
      "2023-07-18 23:18:21,451 : INFO : EPOCH 12 - PROGRESS: at 65.39% examples, 658964 words/s, in_qsize 23, out_qsize 0\n",
      "2023-07-18 23:18:22,461 : INFO : EPOCH 12 - PROGRESS: at 73.83% examples, 662130 words/s, in_qsize 23, out_qsize 0\n",
      "2023-07-18 23:18:23,465 : INFO : EPOCH 12 - PROGRESS: at 82.53% examples, 666800 words/s, in_qsize 22, out_qsize 1\n",
      "2023-07-18 23:18:24,478 : INFO : EPOCH 12 - PROGRESS: at 91.09% examples, 669293 words/s, in_qsize 24, out_qsize 0\n",
      "2023-07-18 23:18:25,495 : INFO : EPOCH 12 - PROGRESS: at 99.67% examples, 671276 words/s, in_qsize 3, out_qsize 1\n",
      "2023-07-18 23:18:25,513 : INFO : EPOCH 12: training on 9227204 raw words (8222580 effective words) took 12.2s, 672443 effective words/s\n",
      "2023-07-18 23:18:26,605 : INFO : EPOCH 13 - PROGRESS: at 7.93% examples, 607806 words/s, in_qsize 21, out_qsize 5\n",
      "2023-07-18 23:18:27,662 : INFO : EPOCH 13 - PROGRESS: at 16.48% examples, 632814 words/s, in_qsize 23, out_qsize 0\n",
      "2023-07-18 23:18:28,664 : INFO : EPOCH 13 - PROGRESS: at 24.72% examples, 646570 words/s, in_qsize 22, out_qsize 1\n",
      "2023-07-18 23:18:29,667 : INFO : EPOCH 13 - PROGRESS: at 32.84% examples, 651368 words/s, in_qsize 23, out_qsize 0\n",
      "2023-07-18 23:18:30,676 : INFO : EPOCH 13 - PROGRESS: at 41.37% examples, 660366 words/s, in_qsize 22, out_qsize 1\n",
      "2023-07-18 23:18:31,712 : INFO : EPOCH 13 - PROGRESS: at 50.35% examples, 669361 words/s, in_qsize 23, out_qsize 0\n",
      "2023-07-18 23:18:32,715 : INFO : EPOCH 13 - PROGRESS: at 58.69% examples, 671437 words/s, in_qsize 23, out_qsize 0\n",
      "2023-07-18 23:18:33,730 : INFO : EPOCH 13 - PROGRESS: at 67.45% examples, 676332 words/s, in_qsize 23, out_qsize 0\n",
      "2023-07-18 23:18:34,761 : INFO : EPOCH 13 - PROGRESS: at 75.67% examples, 674063 words/s, in_qsize 24, out_qsize 3\n",
      "2023-07-18 23:18:35,774 : INFO : EPOCH 13 - PROGRESS: at 84.15% examples, 675225 words/s, in_qsize 23, out_qsize 2\n",
      "2023-07-18 23:18:36,788 : INFO : EPOCH 13 - PROGRESS: at 91.85% examples, 670498 words/s, in_qsize 23, out_qsize 0\n",
      "2023-07-18 23:18:37,797 : INFO : EPOCH 13 - PROGRESS: at 99.67% examples, 667737 words/s, in_qsize 3, out_qsize 1\n",
      "2023-07-18 23:18:37,810 : INFO : EPOCH 13: training on 9227204 raw words (8222549 effective words) took 12.3s, 669231 effective words/s\n",
      "2023-07-18 23:18:38,822 : INFO : EPOCH 14 - PROGRESS: at 6.62% examples, 541442 words/s, in_qsize 23, out_qsize 0\n",
      "2023-07-18 23:18:39,832 : INFO : EPOCH 14 - PROGRESS: at 13.36% examples, 544486 words/s, in_qsize 23, out_qsize 0\n",
      "2023-07-18 23:18:40,852 : INFO : EPOCH 14 - PROGRESS: at 21.14% examples, 572620 words/s, in_qsize 22, out_qsize 1\n",
      "2023-07-18 23:18:41,887 : INFO : EPOCH 14 - PROGRESS: at 28.72% examples, 580253 words/s, in_qsize 22, out_qsize 1\n",
      "2023-07-18 23:18:42,906 : INFO : EPOCH 14 - PROGRESS: at 36.40% examples, 588417 words/s, in_qsize 23, out_qsize 0\n",
      "2023-07-18 23:18:43,940 : INFO : EPOCH 14 - PROGRESS: at 43.11% examples, 579185 words/s, in_qsize 22, out_qsize 5\n",
      "2023-07-18 23:18:44,986 : INFO : EPOCH 14 - PROGRESS: at 50.89% examples, 584147 words/s, in_qsize 22, out_qsize 1\n",
      "2023-07-18 23:18:45,994 : INFO : EPOCH 14 - PROGRESS: at 59.12% examples, 595014 words/s, in_qsize 23, out_qsize 0\n",
      "2023-07-18 23:18:47,003 : INFO : EPOCH 14 - PROGRESS: at 67.56% examples, 605311 words/s, in_qsize 21, out_qsize 2\n",
      "2023-07-18 23:18:48,016 : INFO : EPOCH 14 - PROGRESS: at 76.33% examples, 615879 words/s, in_qsize 23, out_qsize 0\n",
      "2023-07-18 23:18:49,054 : INFO : EPOCH 14 - PROGRESS: at 84.48% examples, 618475 words/s, in_qsize 22, out_qsize 1\n",
      "2023-07-18 23:18:50,113 : INFO : EPOCH 14 - PROGRESS: at 92.94% examples, 621625 words/s, in_qsize 22, out_qsize 1\n",
      "2023-07-18 23:18:50,869 : INFO : EPOCH 14: training on 9227204 raw words (8222020 effective words) took 13.0s, 630054 effective words/s\n",
      "2023-07-18 23:18:51,943 : INFO : EPOCH 15 - PROGRESS: at 7.71% examples, 594474 words/s, in_qsize 22, out_qsize 4\n",
      "2023-07-18 23:18:52,991 : INFO : EPOCH 15 - PROGRESS: at 14.65% examples, 569258 words/s, in_qsize 22, out_qsize 1\n",
      "2023-07-18 23:18:53,995 : INFO : EPOCH 15 - PROGRESS: at 22.22% examples, 585958 words/s, in_qsize 22, out_qsize 1\n",
      "2023-07-18 23:18:55,002 : INFO : EPOCH 15 - PROGRESS: at 29.16% examples, 581174 words/s, in_qsize 23, out_qsize 0\n",
      "2023-07-18 23:18:56,012 : INFO : EPOCH 15 - PROGRESS: at 35.00% examples, 560500 words/s, in_qsize 23, out_qsize 5\n",
      "2023-07-18 23:18:57,028 : INFO : EPOCH 15 - PROGRESS: at 42.68% examples, 570794 words/s, in_qsize 23, out_qsize 0\n",
      "2023-07-18 23:18:58,072 : INFO : EPOCH 15 - PROGRESS: at 49.70% examples, 568406 words/s, in_qsize 21, out_qsize 2\n",
      "2023-07-18 23:18:59,146 : INFO : EPOCH 15 - PROGRESS: at 57.05% examples, 567889 words/s, in_qsize 23, out_qsize 2\n",
      "2023-07-18 23:19:00,177 : INFO : EPOCH 15 - PROGRESS: at 64.62% examples, 572009 words/s, in_qsize 21, out_qsize 2\n",
      "2023-07-18 23:19:01,183 : INFO : EPOCH 15 - PROGRESS: at 70.91% examples, 566310 words/s, in_qsize 24, out_qsize 1\n",
      "2023-07-18 23:19:02,211 : INFO : EPOCH 15 - PROGRESS: at 77.96% examples, 566028 words/s, in_qsize 23, out_qsize 0\n",
      "2023-07-18 23:19:03,248 : INFO : EPOCH 15 - PROGRESS: at 85.77% examples, 570414 words/s, in_qsize 19, out_qsize 4\n",
      "2023-07-18 23:19:04,258 : INFO : EPOCH 15 - PROGRESS: at 94.14% examples, 578579 words/s, in_qsize 22, out_qsize 4\n",
      "2023-07-18 23:19:04,872 : INFO : EPOCH 15: training on 9227204 raw words (8223541 effective words) took 14.0s, 587677 effective words/s\n",
      "2023-07-18 23:19:05,902 : INFO : EPOCH 16 - PROGRESS: at 7.82% examples, 628179 words/s, in_qsize 20, out_qsize 3\n",
      "2023-07-18 23:19:07,002 : INFO : EPOCH 16 - PROGRESS: at 16.16% examples, 625851 words/s, in_qsize 19, out_qsize 9\n",
      "2023-07-18 23:19:08,012 : INFO : EPOCH 16 - PROGRESS: at 25.48% examples, 668728 words/s, in_qsize 23, out_qsize 0\n",
      "2023-07-18 23:19:09,038 : INFO : EPOCH 16 - PROGRESS: at 33.70% examples, 666667 words/s, in_qsize 22, out_qsize 1\n",
      "2023-07-18 23:19:10,042 : INFO : EPOCH 16 - PROGRESS: at 43.00% examples, 685337 words/s, in_qsize 24, out_qsize 0\n",
      "2023-07-18 23:19:11,044 : INFO : EPOCH 16 - PROGRESS: at 52.29% examples, 698268 words/s, in_qsize 22, out_qsize 1\n",
      "2023-07-18 23:19:12,046 : INFO : EPOCH 16 - PROGRESS: at 61.39% examples, 705167 words/s, in_qsize 23, out_qsize 0\n",
      "2023-07-18 23:19:13,057 : INFO : EPOCH 16 - PROGRESS: at 71.02% examples, 714807 words/s, in_qsize 23, out_qsize 0\n",
      "2023-07-18 23:19:14,113 : INFO : EPOCH 16 - PROGRESS: at 80.69% examples, 718976 words/s, in_qsize 21, out_qsize 2\n",
      "2023-07-18 23:19:15,129 : INFO : EPOCH 16 - PROGRESS: at 90.22% examples, 724129 words/s, in_qsize 21, out_qsize 2\n",
      "2023-07-18 23:19:16,147 : INFO : EPOCH 16 - PROGRESS: at 99.11% examples, 723505 words/s, in_qsize 9, out_qsize 1\n",
      "2023-07-18 23:19:16,215 : INFO : EPOCH 16: training on 9227204 raw words (8223553 effective words) took 11.3s, 725580 effective words/s\n",
      "2023-07-18 23:19:17,248 : INFO : EPOCH 17 - PROGRESS: at 7.60% examples, 611012 words/s, in_qsize 23, out_qsize 0\n",
      "2023-07-18 23:19:18,264 : INFO : EPOCH 17 - PROGRESS: at 15.51% examples, 625386 words/s, in_qsize 24, out_qsize 0\n",
      "2023-07-18 23:19:19,290 : INFO : EPOCH 17 - PROGRESS: at 23.52% examples, 631102 words/s, in_qsize 24, out_qsize 1\n",
      "2023-07-18 23:19:20,296 : INFO : EPOCH 17 - PROGRESS: at 30.78% examples, 621910 words/s, in_qsize 23, out_qsize 3\n",
      "2023-07-18 23:19:21,319 : INFO : EPOCH 17 - PROGRESS: at 38.24% examples, 617508 words/s, in_qsize 21, out_qsize 5\n",
      "2023-07-18 23:19:22,333 : INFO : EPOCH 17 - PROGRESS: at 46.02% examples, 619967 words/s, in_qsize 22, out_qsize 1\n",
      "2023-07-18 23:19:23,337 : INFO : EPOCH 17 - PROGRESS: at 53.70% examples, 621433 words/s, in_qsize 22, out_qsize 1\n",
      "2023-07-18 23:19:24,351 : INFO : EPOCH 17 - PROGRESS: at 62.46% examples, 632707 words/s, in_qsize 22, out_qsize 1\n",
      "2023-07-18 23:19:25,383 : INFO : EPOCH 17 - PROGRESS: at 72.10% examples, 647977 words/s, in_qsize 23, out_qsize 0\n",
      "2023-07-18 23:19:26,430 : INFO : EPOCH 17 - PROGRESS: at 81.55% examples, 657393 words/s, in_qsize 23, out_qsize 0\n",
      "2023-07-18 23:19:27,456 : INFO : EPOCH 17 - PROGRESS: at 91.74% examples, 671837 words/s, in_qsize 23, out_qsize 0\n",
      "2023-07-18 23:19:28,292 : INFO : EPOCH 17: training on 9227204 raw words (8222337 effective words) took 12.1s, 681519 effective words/s\n",
      "2023-07-18 23:19:29,305 : INFO : EPOCH 18 - PROGRESS: at 7.93% examples, 647371 words/s, in_qsize 23, out_qsize 0\n",
      "2023-07-18 23:19:30,329 : INFO : EPOCH 18 - PROGRESS: at 17.57% examples, 711303 words/s, in_qsize 23, out_qsize 0\n",
      "2023-07-18 23:19:31,359 : INFO : EPOCH 18 - PROGRESS: at 26.99% examples, 725175 words/s, in_qsize 24, out_qsize 3\n",
      "2023-07-18 23:19:32,366 : INFO : EPOCH 18 - PROGRESS: at 35.32% examples, 714282 words/s, in_qsize 21, out_qsize 2\n",
      "2023-07-18 23:19:33,379 : INFO : EPOCH 18 - PROGRESS: at 44.51% examples, 720753 words/s, in_qsize 24, out_qsize 0\n",
      "2023-07-18 23:19:34,442 : INFO : EPOCH 18 - PROGRESS: at 52.29% examples, 700564 words/s, in_qsize 21, out_qsize 2\n",
      "2023-07-18 23:19:35,450 : INFO : EPOCH 18 - PROGRESS: at 61.71% examples, 710178 words/s, in_qsize 23, out_qsize 3\n",
      "2023-07-18 23:19:36,486 : INFO : EPOCH 18 - PROGRESS: at 71.45% examples, 718347 words/s, in_qsize 22, out_qsize 1\n",
      "2023-07-18 23:19:37,540 : INFO : EPOCH 18 - PROGRESS: at 81.23% examples, 723174 words/s, in_qsize 21, out_qsize 2\n",
      "2023-07-18 23:19:38,541 : INFO : EPOCH 18 - PROGRESS: at 90.76% examples, 728971 words/s, in_qsize 21, out_qsize 2\n",
      "2023-07-18 23:19:39,425 : INFO : EPOCH 18: training on 9227204 raw words (8222243 effective words) took 11.1s, 739144 effective words/s\n",
      "2023-07-18 23:19:40,437 : INFO : EPOCH 19 - PROGRESS: at 8.69% examples, 710221 words/s, in_qsize 24, out_qsize 1\n",
      "2023-07-18 23:19:41,444 : INFO : EPOCH 19 - PROGRESS: at 18.22% examples, 744001 words/s, in_qsize 23, out_qsize 0\n",
      "2023-07-18 23:19:42,499 : INFO : EPOCH 19 - PROGRESS: at 27.96% examples, 749859 words/s, in_qsize 21, out_qsize 5\n",
      "2023-07-18 23:19:43,541 : INFO : EPOCH 19 - PROGRESS: at 37.70% examples, 754584 words/s, in_qsize 23, out_qsize 0\n",
      "2023-07-18 23:19:44,544 : INFO : EPOCH 19 - PROGRESS: at 47.43% examples, 763360 words/s, in_qsize 24, out_qsize 0\n",
      "2023-07-18 23:19:45,549 : INFO : EPOCH 19 - PROGRESS: at 56.62% examples, 761872 words/s, in_qsize 22, out_qsize 1\n",
      "2023-07-18 23:19:46,571 : INFO : EPOCH 19 - PROGRESS: at 65.93% examples, 760112 words/s, in_qsize 22, out_qsize 1\n",
      "2023-07-18 23:19:47,628 : INFO : EPOCH 19 - PROGRESS: at 74.81% examples, 751211 words/s, in_qsize 21, out_qsize 4\n",
      "2023-07-18 23:19:48,637 : INFO : EPOCH 19 - PROGRESS: at 83.51% examples, 746263 words/s, in_qsize 22, out_qsize 3\n",
      "2023-07-18 23:19:49,646 : INFO : EPOCH 19 - PROGRESS: at 92.82% examples, 747511 words/s, in_qsize 23, out_qsize 0\n",
      "2023-07-18 23:19:50,386 : INFO : EPOCH 19: training on 9227204 raw words (8222793 effective words) took 11.0s, 750742 effective words/s\n",
      "2023-07-18 23:19:51,427 : INFO : EPOCH 20 - PROGRESS: at 8.47% examples, 673017 words/s, in_qsize 22, out_qsize 1\n",
      "2023-07-18 23:19:52,435 : INFO : EPOCH 20 - PROGRESS: at 18.00% examples, 724810 words/s, in_qsize 23, out_qsize 0\n",
      "2023-07-18 23:19:53,450 : INFO : EPOCH 20 - PROGRESS: at 27.32% examples, 734711 words/s, in_qsize 23, out_qsize 0\n",
      "2023-07-18 23:19:54,455 : INFO : EPOCH 20 - PROGRESS: at 35.43% examples, 717423 words/s, in_qsize 24, out_qsize 0\n",
      "2023-07-18 23:19:55,458 : INFO : EPOCH 20 - PROGRESS: at 43.75% examples, 710766 words/s, in_qsize 24, out_qsize 0\n",
      "2023-07-18 23:19:56,461 : INFO : EPOCH 20 - PROGRESS: at 51.86% examples, 703461 words/s, in_qsize 23, out_qsize 0\n",
      "2023-07-18 23:19:57,475 : INFO : EPOCH 20 - PROGRESS: at 59.55% examples, 692054 words/s, in_qsize 22, out_qsize 2\n",
      "2023-07-18 23:19:58,477 : INFO : EPOCH 20 - PROGRESS: at 67.99% examples, 692247 words/s, in_qsize 23, out_qsize 1\n",
      "2023-07-18 23:19:59,487 : INFO : EPOCH 20 - PROGRESS: at 76.11% examples, 688760 words/s, in_qsize 22, out_qsize 1\n",
      "2023-07-18 23:20:00,488 : INFO : EPOCH 20 - PROGRESS: at 83.40% examples, 679605 words/s, in_qsize 24, out_qsize 0\n",
      "2023-07-18 23:20:01,492 : INFO : EPOCH 20 - PROGRESS: at 91.09% examples, 675068 words/s, in_qsize 24, out_qsize 0\n",
      "2023-07-18 23:20:02,523 : INFO : EPOCH 20 - PROGRESS: at 97.93% examples, 663949 words/s, in_qsize 18, out_qsize 2\n",
      "2023-07-18 23:20:02,793 : INFO : EPOCH 20: training on 9227204 raw words (8222414 effective words) took 12.4s, 663205 effective words/s\n",
      "2023-07-18 23:20:03,824 : INFO : EPOCH 21 - PROGRESS: at 6.73% examples, 542175 words/s, in_qsize 23, out_qsize 0\n",
      "2023-07-18 23:20:04,846 : INFO : EPOCH 21 - PROGRESS: at 12.93% examples, 519688 words/s, in_qsize 22, out_qsize 3\n",
      "2023-07-18 23:20:05,863 : INFO : EPOCH 21 - PROGRESS: at 20.92% examples, 562358 words/s, in_qsize 23, out_qsize 0\n",
      "2023-07-18 23:20:06,870 : INFO : EPOCH 21 - PROGRESS: at 27.32% examples, 552320 words/s, in_qsize 24, out_qsize 1\n",
      "2023-07-18 23:20:07,956 : INFO : EPOCH 21 - PROGRESS: at 34.57% examples, 551852 words/s, in_qsize 23, out_qsize 1\n",
      "2023-07-18 23:20:08,960 : INFO : EPOCH 21 - PROGRESS: at 42.13% examples, 563084 words/s, in_qsize 23, out_qsize 0\n",
      "2023-07-18 23:20:10,022 : INFO : EPOCH 21 - PROGRESS: at 49.49% examples, 564192 words/s, in_qsize 23, out_qsize 2\n",
      "2023-07-18 23:20:11,054 : INFO : EPOCH 21 - PROGRESS: at 57.16% examples, 570320 words/s, in_qsize 22, out_qsize 1\n",
      "2023-07-18 23:20:12,107 : INFO : EPOCH 21 - PROGRESS: at 64.51% examples, 570849 words/s, in_qsize 22, out_qsize 1\n",
      "2023-07-18 23:20:13,150 : INFO : EPOCH 21 - PROGRESS: at 72.10% examples, 573568 words/s, in_qsize 24, out_qsize 1\n",
      "2023-07-18 23:20:14,156 : INFO : EPOCH 21 - PROGRESS: at 80.46% examples, 583134 words/s, in_qsize 21, out_qsize 2\n",
      "2023-07-18 23:20:15,158 : INFO : EPOCH 21 - PROGRESS: at 88.91% examples, 592068 words/s, in_qsize 23, out_qsize 0\n",
      "2023-07-18 23:20:16,175 : INFO : EPOCH 21 - PROGRESS: at 97.39% examples, 598933 words/s, in_qsize 23, out_qsize 0\n",
      "2023-07-18 23:20:16,425 : INFO : EPOCH 21: training on 9227204 raw words (8222229 effective words) took 13.6s, 603717 effective words/s\n",
      "2023-07-18 23:20:17,444 : INFO : EPOCH 22 - PROGRESS: at 7.49% examples, 609205 words/s, in_qsize 22, out_qsize 1\n",
      "2023-07-18 23:20:18,473 : INFO : EPOCH 22 - PROGRESS: at 15.73% examples, 633654 words/s, in_qsize 20, out_qsize 3\n",
      "2023-07-18 23:20:19,479 : INFO : EPOCH 22 - PROGRESS: at 23.96% examples, 646673 words/s, in_qsize 23, out_qsize 1\n",
      "2023-07-18 23:20:20,488 : INFO : EPOCH 22 - PROGRESS: at 30.99% examples, 628465 words/s, in_qsize 20, out_qsize 3\n",
      "2023-07-18 23:20:21,490 : INFO : EPOCH 22 - PROGRESS: at 39.86% examples, 648451 words/s, in_qsize 24, out_qsize 0\n",
      "2023-07-18 23:20:22,490 : INFO : EPOCH 22 - PROGRESS: at 48.08% examples, 653158 words/s, in_qsize 24, out_qsize 0\n",
      "2023-07-18 23:20:23,523 : INFO : EPOCH 22 - PROGRESS: at 56.84% examples, 659879 words/s, in_qsize 23, out_qsize 0\n",
      "2023-07-18 23:20:24,535 : INFO : EPOCH 22 - PROGRESS: at 65.28% examples, 663205 words/s, in_qsize 24, out_qsize 0\n",
      "2023-07-18 23:20:25,536 : INFO : EPOCH 22 - PROGRESS: at 73.73% examples, 666544 words/s, in_qsize 23, out_qsize 0\n",
      "2023-07-18 23:20:26,549 : INFO : EPOCH 22 - PROGRESS: at 81.88% examples, 665789 words/s, in_qsize 22, out_qsize 1\n",
      "2023-07-18 23:20:27,571 : INFO : EPOCH 22 - PROGRESS: at 90.22% examples, 666273 words/s, in_qsize 22, out_qsize 1\n",
      "2023-07-18 23:20:28,596 : INFO : EPOCH 22 - PROGRESS: at 98.90% examples, 668681 words/s, in_qsize 9, out_qsize 5\n",
      "2023-07-18 23:20:28,667 : INFO : EPOCH 22: training on 9227204 raw words (8222425 effective words) took 12.2s, 672205 effective words/s\n",
      "2023-07-18 23:20:29,713 : INFO : EPOCH 23 - PROGRESS: at 7.60% examples, 600905 words/s, in_qsize 21, out_qsize 2\n",
      "2023-07-18 23:20:30,729 : INFO : EPOCH 23 - PROGRESS: at 16.38% examples, 655070 words/s, in_qsize 24, out_qsize 2\n",
      "2023-07-18 23:20:31,739 : INFO : EPOCH 23 - PROGRESS: at 24.83% examples, 666078 words/s, in_qsize 22, out_qsize 1\n",
      "2023-07-18 23:20:32,783 : INFO : EPOCH 23 - PROGRESS: at 33.38% examples, 668108 words/s, in_qsize 23, out_qsize 0\n",
      "2023-07-18 23:20:33,787 : INFO : EPOCH 23 - PROGRESS: at 40.83% examples, 657198 words/s, in_qsize 21, out_qsize 2\n",
      "2023-07-18 23:20:34,790 : INFO : EPOCH 23 - PROGRESS: at 47.65% examples, 641124 words/s, in_qsize 23, out_qsize 0\n",
      "2023-07-18 23:20:35,854 : INFO : EPOCH 23 - PROGRESS: at 55.21% examples, 633003 words/s, in_qsize 22, out_qsize 1\n",
      "2023-07-18 23:20:36,863 : INFO : EPOCH 23 - PROGRESS: at 62.14% examples, 624599 words/s, in_qsize 23, out_qsize 0\n",
      "2023-07-18 23:20:37,924 : INFO : EPOCH 23 - PROGRESS: at 69.40% examples, 617528 words/s, in_qsize 21, out_qsize 2\n",
      "2023-07-18 23:20:38,932 : INFO : EPOCH 23 - PROGRESS: at 76.98% examples, 617569 words/s, in_qsize 22, out_qsize 1\n",
      "2023-07-18 23:20:40,000 : INFO : EPOCH 23 - PROGRESS: at 83.40% examples, 605774 words/s, in_qsize 24, out_qsize 0\n",
      "2023-07-18 23:20:41,002 : INFO : EPOCH 23 - PROGRESS: at 90.44% examples, 603427 words/s, in_qsize 23, out_qsize 4\n",
      "2023-07-18 23:20:42,003 : INFO : EPOCH 23 - PROGRESS: at 97.71% examples, 602882 words/s, in_qsize 21, out_qsize 1\n",
      "2023-07-18 23:20:42,240 : INFO : EPOCH 23: training on 9227204 raw words (8222666 effective words) took 13.6s, 606202 effective words/s\n",
      "2023-07-18 23:20:43,281 : INFO : EPOCH 24 - PROGRESS: at 7.38% examples, 587868 words/s, in_qsize 23, out_qsize 6\n",
      "2023-07-18 23:20:44,281 : INFO : EPOCH 24 - PROGRESS: at 16.70% examples, 675317 words/s, in_qsize 23, out_qsize 0\n",
      "2023-07-18 23:20:45,299 : INFO : EPOCH 24 - PROGRESS: at 24.39% examples, 657575 words/s, in_qsize 23, out_qsize 0\n",
      "2023-07-18 23:20:46,316 : INFO : EPOCH 24 - PROGRESS: at 32.30% examples, 652959 words/s, in_qsize 24, out_qsize 3\n",
      "2023-07-18 23:20:47,323 : INFO : EPOCH 24 - PROGRESS: at 39.65% examples, 642749 words/s, in_qsize 23, out_qsize 0\n",
      "2023-07-18 23:20:48,337 : INFO : EPOCH 24 - PROGRESS: at 46.99% examples, 635237 words/s, in_qsize 22, out_qsize 3\n",
      "2023-07-18 23:20:49,414 : INFO : EPOCH 24 - PROGRESS: at 54.78% examples, 629259 words/s, in_qsize 21, out_qsize 2\n",
      "2023-07-18 23:20:50,425 : INFO : EPOCH 24 - PROGRESS: at 62.68% examples, 631049 words/s, in_qsize 22, out_qsize 1\n",
      "2023-07-18 23:20:51,472 : INFO : EPOCH 24 - PROGRESS: at 70.91% examples, 632783 words/s, in_qsize 21, out_qsize 2\n",
      "2023-07-18 23:20:52,497 : INFO : EPOCH 24 - PROGRESS: at 79.49% examples, 638126 words/s, in_qsize 23, out_qsize 0\n",
      "2023-07-18 23:20:53,505 : INFO : EPOCH 24 - PROGRESS: at 87.94% examples, 642684 words/s, in_qsize 23, out_qsize 0\n",
      "2023-07-18 23:20:54,529 : INFO : EPOCH 24 - PROGRESS: at 96.63% examples, 647092 words/s, in_qsize 23, out_qsize 0\n",
      "2023-07-18 23:20:54,815 : INFO : EPOCH 24: training on 9227204 raw words (8222359 effective words) took 12.6s, 654391 effective words/s\n",
      "2023-07-18 23:20:55,828 : INFO : EPOCH 25 - PROGRESS: at 8.80% examples, 718383 words/s, in_qsize 23, out_qsize 0\n",
      "2023-07-18 23:20:56,832 : INFO : EPOCH 25 - PROGRESS: at 21.14% examples, 865104 words/s, in_qsize 20, out_qsize 3\n",
      "2023-07-18 23:20:57,834 : INFO : EPOCH 25 - PROGRESS: at 35.21% examples, 961956 words/s, in_qsize 23, out_qsize 0\n",
      "2023-07-18 23:20:58,870 : INFO : EPOCH 25 - PROGRESS: at 48.95% examples, 995079 words/s, in_qsize 23, out_qsize 0\n",
      "2023-07-18 23:20:59,874 : INFO : EPOCH 25 - PROGRESS: at 62.57% examples, 1019762 words/s, in_qsize 24, out_qsize 0\n",
      "2023-07-18 23:21:00,880 : INFO : EPOCH 25 - PROGRESS: at 76.22% examples, 1035601 words/s, in_qsize 22, out_qsize 1\n",
      "2023-07-18 23:21:01,912 : INFO : EPOCH 25 - PROGRESS: at 89.89% examples, 1043160 words/s, in_qsize 24, out_qsize 0\n",
      "2023-07-18 23:21:02,629 : INFO : EPOCH 25: training on 9227204 raw words (8222177 effective words) took 7.8s, 1053479 effective words/s\n",
      "2023-07-18 23:21:03,648 : INFO : EPOCH 26 - PROGRESS: at 12.60% examples, 1031246 words/s, in_qsize 22, out_qsize 5\n",
      "2023-07-18 23:21:04,660 : INFO : EPOCH 26 - PROGRESS: at 27.09% examples, 1105757 words/s, in_qsize 23, out_qsize 0\n",
      "2023-07-18 23:21:05,661 : INFO : EPOCH 26 - PROGRESS: at 40.51% examples, 1105151 words/s, in_qsize 22, out_qsize 1\n",
      "2023-07-18 23:21:06,673 : INFO : EPOCH 26 - PROGRESS: at 54.57% examples, 1114908 words/s, in_qsize 23, out_qsize 0\n",
      "2023-07-18 23:21:07,673 : INFO : EPOCH 26 - PROGRESS: at 68.42% examples, 1119932 words/s, in_qsize 23, out_qsize 0\n",
      "2023-07-18 23:21:08,710 : INFO : EPOCH 26 - PROGRESS: at 82.64% examples, 1120994 words/s, in_qsize 22, out_qsize 1\n",
      "2023-07-18 23:21:09,716 : INFO : EPOCH 26 - PROGRESS: at 96.85% examples, 1126325 words/s, in_qsize 23, out_qsize 0\n",
      "2023-07-18 23:21:09,894 : INFO : EPOCH 26: training on 9227204 raw words (8222869 effective words) took 7.2s, 1134532 effective words/s\n",
      "2023-07-18 23:21:10,927 : INFO : EPOCH 27 - PROGRESS: at 12.93% examples, 1036272 words/s, in_qsize 23, out_qsize 0\n",
      "2023-07-18 23:21:11,931 : INFO : EPOCH 27 - PROGRESS: at 27.10% examples, 1098442 words/s, in_qsize 23, out_qsize 0\n",
      "2023-07-18 23:21:12,950 : INFO : EPOCH 27 - PROGRESS: at 38.57% examples, 1040779 words/s, in_qsize 22, out_qsize 1\n",
      "2023-07-18 23:21:13,966 : INFO : EPOCH 27 - PROGRESS: at 49.27% examples, 997845 words/s, in_qsize 23, out_qsize 0\n",
      "2023-07-18 23:21:14,967 : INFO : EPOCH 27 - PROGRESS: at 58.04% examples, 943030 words/s, in_qsize 23, out_qsize 0\n",
      "2023-07-18 23:21:15,971 : INFO : EPOCH 27 - PROGRESS: at 68.75% examples, 932425 words/s, in_qsize 23, out_qsize 0\n",
      "2023-07-18 23:21:16,984 : INFO : EPOCH 27 - PROGRESS: at 76.65% examples, 890820 words/s, in_qsize 19, out_qsize 2\n",
      "2023-07-18 23:21:17,992 : INFO : EPOCH 27 - PROGRESS: at 86.74% examples, 882149 words/s, in_qsize 23, out_qsize 0\n",
      "2023-07-18 23:21:19,012 : INFO : EPOCH 27 - PROGRESS: at 95.23% examples, 859615 words/s, in_qsize 22, out_qsize 1\n",
      "2023-07-18 23:21:19,337 : INFO : EPOCH 27: training on 9227204 raw words (8223303 effective words) took 9.4s, 871640 effective words/s\n",
      "2023-07-18 23:21:20,369 : INFO : EPOCH 28 - PROGRESS: at 11.30% examples, 906296 words/s, in_qsize 23, out_qsize 0\n",
      "2023-07-18 23:21:21,378 : INFO : EPOCH 28 - PROGRESS: at 25.15% examples, 1017302 words/s, in_qsize 22, out_qsize 1\n",
      "2023-07-18 23:21:22,388 : INFO : EPOCH 28 - PROGRESS: at 38.89% examples, 1051260 words/s, in_qsize 23, out_qsize 4\n",
      "2023-07-18 23:21:23,391 : INFO : EPOCH 28 - PROGRESS: at 52.62% examples, 1070319 words/s, in_qsize 23, out_qsize 0\n",
      "2023-07-18 23:21:24,437 : INFO : EPOCH 28 - PROGRESS: at 66.80% examples, 1079799 words/s, in_qsize 24, out_qsize 0\n",
      "2023-07-18 23:21:25,439 : INFO : EPOCH 28 - PROGRESS: at 81.01% examples, 1093779 words/s, in_qsize 23, out_qsize 0\n",
      "2023-07-18 23:21:26,441 : INFO : EPOCH 28 - PROGRESS: at 95.01% examples, 1101103 words/s, in_qsize 23, out_qsize 0\n",
      "2023-07-18 23:21:26,735 : INFO : EPOCH 28: training on 9227204 raw words (8223021 effective words) took 7.4s, 1112872 effective words/s\n",
      "2023-07-18 23:21:27,748 : INFO : EPOCH 29 - PROGRESS: at 12.82% examples, 1046957 words/s, in_qsize 21, out_qsize 2\n",
      "2023-07-18 23:21:28,762 : INFO : EPOCH 29 - PROGRESS: at 27.10% examples, 1103331 words/s, in_qsize 22, out_qsize 1\n",
      "2023-07-18 23:21:29,770 : INFO : EPOCH 29 - PROGRESS: at 40.94% examples, 1112710 words/s, in_qsize 24, out_qsize 0\n",
      "2023-07-18 23:21:30,781 : INFO : EPOCH 29 - PROGRESS: at 54.89% examples, 1118866 words/s, in_qsize 22, out_qsize 2\n",
      "2023-07-18 23:21:31,786 : INFO : EPOCH 29 - PROGRESS: at 68.10% examples, 1111479 words/s, in_qsize 24, out_qsize 0\n",
      "2023-07-18 23:21:32,795 : INFO : EPOCH 29 - PROGRESS: at 80.03% examples, 1087905 words/s, in_qsize 23, out_qsize 0\n",
      "2023-07-18 23:21:33,796 : INFO : EPOCH 29 - PROGRESS: at 93.59% examples, 1091387 words/s, in_qsize 23, out_qsize 0\n",
      "2023-07-18 23:21:34,196 : INFO : EPOCH 29: training on 9227204 raw words (8222820 effective words) took 7.5s, 1103481 effective words/s\n",
      "2023-07-18 23:21:35,238 : INFO : EPOCH 30 - PROGRESS: at 13.25% examples, 1051880 words/s, in_qsize 23, out_qsize 0\n",
      "2023-07-18 23:21:36,241 : INFO : EPOCH 30 - PROGRESS: at 27.31% examples, 1102501 words/s, in_qsize 24, out_qsize 2\n",
      "2023-07-18 23:21:37,244 : INFO : EPOCH 30 - PROGRESS: at 41.27% examples, 1116652 words/s, in_qsize 24, out_qsize 0\n",
      "2023-07-18 23:21:38,285 : INFO : EPOCH 30 - PROGRESS: at 55.53% examples, 1119967 words/s, in_qsize 22, out_qsize 1\n",
      "2023-07-18 23:21:39,288 : INFO : EPOCH 30 - PROGRESS: at 69.40% examples, 1123348 words/s, in_qsize 23, out_qsize 0\n",
      "2023-07-18 23:21:40,289 : INFO : EPOCH 30 - PROGRESS: at 83.18% examples, 1124482 words/s, in_qsize 23, out_qsize 3\n",
      "2023-07-18 23:21:41,323 : INFO : EPOCH 30 - PROGRESS: at 97.39% examples, 1124914 words/s, in_qsize 22, out_qsize 3\n",
      "2023-07-18 23:21:41,463 : INFO : EPOCH 30: training on 9227204 raw words (8222628 effective words) took 7.3s, 1132816 effective words/s\n",
      "2023-07-18 23:21:42,473 : INFO : EPOCH 31 - PROGRESS: at 13.04% examples, 1068069 words/s, in_qsize 24, out_qsize 0\n",
      "2023-07-18 23:21:43,482 : INFO : EPOCH 31 - PROGRESS: at 25.26% examples, 1032613 words/s, in_qsize 23, out_qsize 0\n",
      "2023-07-18 23:21:44,507 : INFO : EPOCH 31 - PROGRESS: at 34.24% examples, 927397 words/s, in_qsize 23, out_qsize 0\n",
      "2023-07-18 23:21:45,516 : INFO : EPOCH 31 - PROGRESS: at 43.97% examples, 894355 words/s, in_qsize 22, out_qsize 1\n",
      "2023-07-18 23:21:46,534 : INFO : EPOCH 31 - PROGRESS: at 52.40% examples, 851792 words/s, in_qsize 24, out_qsize 3\n",
      "2023-07-18 23:21:47,547 : INFO : EPOCH 31 - PROGRESS: at 62.14% examples, 841734 words/s, in_qsize 23, out_qsize 0\n",
      "2023-07-18 23:21:48,553 : INFO : EPOCH 31 - PROGRESS: at 69.83% examples, 811570 words/s, in_qsize 23, out_qsize 0\n",
      "2023-07-18 23:21:49,555 : INFO : EPOCH 31 - PROGRESS: at 75.57% examples, 769282 words/s, in_qsize 21, out_qsize 0\n",
      "2023-07-18 23:21:50,618 : INFO : EPOCH 31 - PROGRESS: at 79.27% examples, 712989 words/s, in_qsize 17, out_qsize 6\n",
      "2023-07-18 23:21:51,620 : INFO : EPOCH 31 - PROGRESS: at 84.37% examples, 683871 words/s, in_qsize 24, out_qsize 0\n",
      "2023-07-18 23:21:52,624 : INFO : EPOCH 31 - PROGRESS: at 88.27% examples, 651071 words/s, in_qsize 13, out_qsize 1\n",
      "2023-07-18 23:21:53,634 : INFO : EPOCH 31 - PROGRESS: at 93.81% examples, 634327 words/s, in_qsize 23, out_qsize 0\n",
      "2023-07-18 23:21:54,504 : INFO : EPOCH 31: training on 9227204 raw words (8223515 effective words) took 13.0s, 631012 effective words/s\n",
      "2023-07-18 23:21:54,506 : INFO : Word2Vec lifecycle event {'msg': 'training on 295270528 raw words (263123893 effective words) took 370.3s, 710515 effective words/s', 'datetime': '2023-07-18T23:21:54.506381', 'gensim': '4.3.1', 'python': '3.10.6 (main, Nov 10 2011, 15:00:00) [GCC 12.2.0]', 'platform': 'Linux-6.2.6-76060206-generic-x86_64-with-glibc2.35', 'event': 'train'}\n"
     ]
    },
    {
     "data": {
      "text/plain": [
       "(263123893, 295270528)"
      ]
     },
     "execution_count": 18,
     "metadata": {},
     "output_type": "execute_result"
    }
   ],
   "source": [
    "w2v_model.train(documents, total_examples=len(documents), epochs=W2V_EPOCH)"
   ]
  },
  {
   "cell_type": "code",
   "execution_count": 59,
   "metadata": {},
   "outputs": [
    {
     "data": {
      "text/plain": [
       "[('engine', 0.31074681878089905),\n",
       " ('opensource', 0.30869194865226746),\n",
       " ('bmw', 0.30633941292762756),\n",
       " ('routes', 0.3048129975795746),\n",
       " ('estimated', 0.30316993594169617),\n",
       " ('solar', 0.29981598258018494),\n",
       " ('chevy', 0.2951294779777527),\n",
       " ('honda', 0.2947421073913574),\n",
       " ('exit', 0.29344940185546875),\n",
       " ('hosted', 0.29268109798431396)]"
      ]
     },
     "execution_count": 59,
     "metadata": {},
     "output_type": "execute_result"
    }
   ],
   "source": [
    "w2v_model.wv.most_similar(\"tesla\")\n"
   ]
  },
  {
   "attachments": {},
   "cell_type": "markdown",
   "metadata": {},
   "source": [
    "## Kearas text"
   ]
  },
  {
   "cell_type": "code",
   "execution_count": 28,
   "metadata": {},
   "outputs": [],
   "source": [
    "# KERAS\n",
    "SEQUENCE_LENGTH = 300\n",
    "EPOCHS = 8\n",
    "BATCH_SIZE = 1024\n",
    "\n",
    "# SENTIMENT\n",
    "POSITIVE = \"POSITIVE\"\n",
    "NEGATIVE = \"NEGATIVE\"\n",
    "NEUTRAL = \"NEUTRAL\"\n",
    "SENTIMENT_THRESHOLDS = (0.4, 0.7)\n",
    "\n",
    "# EXPORT\n",
    "KERAS_MODEL = \"model.h5\"\n",
    "WORD2VEC_MODEL = \"model.w2v\"\n",
    "TOKENIZER_MODEL = \"tokenizer.pkl\"\n",
    "ENCODER_MODEL = \"encoder.pkl\""
   ]
  },
  {
   "cell_type": "code",
   "execution_count": 26,
   "metadata": {},
   "outputs": [
    {
     "name": "stdout",
     "output_type": "stream",
     "text": [
      "TOTAL WORDS: 290419\n",
      "TOTAL WORDS: 290419\n",
      "TOTAL WORDS: 290419\n",
      "TOTAL WORDS: 290419\n",
      "TOTAL WORDS: 290419\n",
      "TOTAL WORDS: 290419\n",
      "TOTAL WORDS: 290419\n",
      "TOTAL WORDS: 290419\n",
      "22.2 s ± 1.05 s per loop (mean ± std. dev. of 7 runs, 1 loop each)\n"
     ]
    }
   ],
   "source": [
    "%%timeit\n",
    "tokenizer = Tokenizer()\n",
    "tokenizer.fit_on_texts(df_train.text)\n",
    "\n",
    "vocab_size= len(tokenizer.word_index) + 1\n",
    "print(f'TOTAL WORDS: {vocab_size}')"
   ]
  },
  {
   "cell_type": "code",
   "execution_count": 29,
   "metadata": {},
   "outputs": [
    {
     "name": "stdout",
     "output_type": "stream",
     "text": [
      "21.9 s ± 828 ms per loop (mean ± std. dev. of 7 runs, 1 loop each)\n"
     ]
    }
   ],
   "source": [
    "%%timeit\n",
    "x_train = pad_sequences(tokenizer.texts_to_sequences(df_train.text), maxlen=SEQUENCE_LENGTH)\n",
    "x_test = pad_sequences(tokenizer.texts_to_sequences(df_test.text), maxlen=SEQUENCE_LENGTH)\n"
   ]
  },
  {
   "cell_type": "code",
   "execution_count": 30,
   "metadata": {},
   "outputs": [
    {
     "data": {
      "text/plain": [
       "['POSITIVE', 'NEGATIVE', 'NEUTRAL']"
      ]
     },
     "execution_count": 30,
     "metadata": {},
     "output_type": "execute_result"
    }
   ],
   "source": [
    "labels = df_train.target.unique().tolist()\n",
    "labels.append(NEUTRAL)\n",
    "labels"
   ]
  },
  {
   "cell_type": "code",
   "execution_count": null,
   "metadata": {},
   "outputs": [],
   "source": []
  }
 ],
 "metadata": {
  "kernelspec": {
   "display_name": ".venv",
   "language": "python",
   "name": "python3"
  },
  "language_info": {
   "codemirror_mode": {
    "name": "ipython",
    "version": 3
   },
   "file_extension": ".py",
   "mimetype": "text/x-python",
   "name": "python",
   "nbconvert_exporter": "python",
   "pygments_lexer": "ipython3",
   "version": "3.10.6"
  },
  "orig_nbformat": 4
 },
 "nbformat": 4,
 "nbformat_minor": 2
}
